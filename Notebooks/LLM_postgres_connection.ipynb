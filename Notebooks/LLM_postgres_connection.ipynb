{
 "cells": [
  {
   "cell_type": "markdown",
   "metadata": {},
   "source": [
    "## import necessary libraries"
   ]
  },
  {
   "cell_type": "code",
   "execution_count": 7,
   "metadata": {},
   "outputs": [],
   "source": [
    "import os\n",
    "import openai\n",
    "from IPython.display import Markdown, display\n",
    "from llama_index.core import SQLDatabase\n",
    "from llama_index.llms.openai import OpenAI\n",
    "from sqlalchemy import text\n",
    "from sqlalchemy import insert\n",
    "from sqlalchemy import (\n",
    "    create_engine,\n",
    "    MetaData,\n",
    "    Table,\n",
    "    Column,\n",
    "    String,\n",
    "    Integer,\n",
    "    select,\n",
    ")\n"
   ]
  },
  {
   "cell_type": "markdown",
   "metadata": {},
   "source": [
    "## connect OpenAI API key"
   ]
  },
  {
   "cell_type": "code",
   "execution_count": 6,
   "metadata": {},
   "outputs": [],
   "source": [
    "from dotenv import load_dotenv\n",
    "\n",
    "os.environ[\"OPENAI_API_KEY\"] = \"OPENAI_API_KEY\"\n",
    "openai.api_key = os.environ[\"OPENAI_API_KEY\"]"
   ]
  },
  {
   "cell_type": "markdown",
   "metadata": {},
   "source": [
    "## Connect to database"
   ]
  },
  {
   "cell_type": "code",
   "execution_count": 13,
   "metadata": {},
   "outputs": [],
   "source": [
    "import psycopg2\n",
    "\n",
    "# Database connection parameters\n",
    "db_name = \"postgres\"\n",
    "db_user = \"postgres\"\n",
    "db_password = \"postgres\"\n",
    "db_host = \"localhost\"\n",
    "\n",
    "\n",
    "connection = psycopg2.connect(\n",
    "    dbname=db_name,\n",
    "    user=db_user,\n",
    "    password=db_password,\n",
    "    host=db_host\n",
    ")\n",
    "cursor = connection.cursor()"
   ]
  },
  {
   "cell_type": "markdown",
   "metadata": {},
   "source": [
    "## Test conversion from natural language to SQL"
   ]
  },
  {
   "cell_type": "code",
   "execution_count": 30,
   "metadata": {},
   "outputs": [
    {
     "name": "stdout",
     "output_type": "stream",
     "text": [
      "To find the total views for 'Addis Ababa' from the cities_table, you can write the following SQL query:\n",
      "\n",
      "```sql\n",
      "SELECT SUM(Views) AS TotalViews\n",
      "FROM cities_table\n",
      "WHERE CityName = 'Addis Ababa';\n",
      "``` \n",
      "\n",
      "This query will return the total views for the city 'Addis Ababa'.\n"
     ]
    }
   ],
   "source": [
    "import requests\n",
    "import os\n",
    "\n",
    "def question_to_prompt(natural_language_query):\n",
    "    template = \"\"\n",
    "    #NLP convert natural_language_query to SQL \n",
    "    return template\n",
    "\n",
    "def get_sql_query(prompt, api_key, model=\"gpt-3.5-turbo\"):\n",
    "    headers = {'Authorization': f'Bearer {api_key}'}\n",
    "    response = requests.post('https://api.openai.com/v1/chat/completions', headers=headers, json={\n",
    "        'messages': [\n",
    "            {\"role\": \"system\", \"content\": \"You are a helpful assistant.\"},\n",
    "            {\"role\": \"user\", \"content\": prompt},\n",
    "        ],\n",
    "        'max_tokens': 100,\n",
    "        'temperature': 0.7,\n",
    "        'top_p': 1,\n",
    "        'frequency_penalty': 0.0,\n",
    "        'presence_penalty': 0.0,\n",
    "        'model': model\n",
    "    })\n",
    "    if response.status_code == 200:\n",
    "        return response.json()\n",
    "    else:\n",
    "        raise Exception(f\"API request failed with status {response.status_code}: {response.text}\")\n",
    "\n",
    "\n",
    "def parse_sql_query(response_json):\n",
    "    # Adjusted to match the structure of the response from the chat model\n",
    "    return response_json['choices'][0]['message']['content'].strip()\n",
    "\n",
    "\n",
    "def generate_and_execute_sql(question, api_key):\n",
    "    prompt = question_to_prompt(question)\n",
    "    response_json = get_sql_query(prompt, api_key, model=\"gpt-3.5-turbo\")  # Add the model parameter here\n",
    "    parsed_sql_query = parse_sql_query(response_json)\n",
    "    # Execute the parsed SQL query against your database here\n",
    "    print(parsed_sql_query)\n",
    "\n",
    "\n",
    "# Example usage\n",
    "api_key = \"openai.api_key\" #OPENAI_API_KEY from local environment\n",
    "question = \"What is the total view from 'Addis Ababa'?\"\n",
    "generate_and_execute_sql(question, api_key)\n"
   ]
  }
 ],
 "metadata": {
  "kernelspec": {
   "display_name": "myenv",
   "language": "python",
   "name": "python3"
  },
  "language_info": {
   "codemirror_mode": {
    "name": "ipython",
    "version": 3
   },
   "file_extension": ".py",
   "mimetype": "text/x-python",
   "name": "python",
   "nbconvert_exporter": "python",
   "pygments_lexer": "ipython3",
   "version": "3.10.12"
  }
 },
 "nbformat": 4,
 "nbformat_minor": 2
}
