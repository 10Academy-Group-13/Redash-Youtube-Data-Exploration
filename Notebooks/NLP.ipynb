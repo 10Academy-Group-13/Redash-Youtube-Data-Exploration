{
 "cells": [
  {
   "cell_type": "code",
   "execution_count": 30,
   "metadata": {},
   "outputs": [],
   "source": [
    "# Import the logging module, which is used for tracking events that happen when code runs.\n",
    "# Import the sys module, which provides access to some variables used or maintained by the Python interpreter.\n",
    "import logging\n",
    "import sys\n",
    "\n",
    "# Configure the logging module to output log messages to stdout (standard output, usually the terminal).\n",
    "# The level parameter sets the threshold for what messages will be logged. INFO means that all messages of level INFO and above will be logged.\n",
    "# force=True ensures that the configuration is applied even if there are other handlers already configured.\n",
    "logging.basicConfig(stream=sys.stdout, level=logging.INFO, force=True)\n",
    "\n",
    "# Get the root logger and add a handler to it. This handler will also output log messages to stdout.\n",
    "# This is done to ensure that log messages are displayed in the environment where the script is running.\n",
    "logging.getLogger().addHandler(logging.StreamHandler(stream=sys.stdout))\n",
    "\n",
    "# Import the Markdown class from the IPython.display module, which is used to display Markdown formatted text in Jupyter notebooks.\n",
    "from IPython.display import Markdown, display"
   ]
  },
  {
   "cell_type": "markdown",
   "metadata": {},
   "source": [
    "## Establish connection with PostgreSQL database"
   ]
  },
  {
   "cell_type": "code",
   "execution_count": 14,
   "metadata": {},
   "outputs": [
    {
     "name": "stdout",
     "output_type": "stream",
     "text": [
      "(datetime.date(2020, 6, 28), '0x164b85cef5ab402d:0x8467b6b037a24d49', 'Addis Ababa', 0)\n",
      "(datetime.date(2020, 6, 29), '0x164b85cef5ab402d:0x8467b6b037a24d49', 'Addis Ababa', 0)\n",
      "(datetime.date(2020, 6, 30), '0x164b85cef5ab402d:0x8467b6b037a24d49', 'Addis Ababa', 0)\n"
     ]
    }
   ],
   "source": [
    "# Import the create_engine and text functions from the sqlalchemy module.\n",
    "# create_engine is used to create a connection to the database.\n",
    "# text is used to create SQL expressions.\n",
    "from sqlalchemy import create_engine, text\n",
    "\n",
    "# Define the database credentials and connection details.\n",
    "db_user = \"postgres\"\n",
    "db_password = \"postgres\"\n",
    "db_host = \"localhost\"\n",
    "db_port = \"5432\"\n",
    "db_name = \"youtube_data\"\n",
    "\n",
    "# Construct the connection string using the defined credentials and connection details.\n",
    "# The format is specific to PostgreSQL databases.\n",
    "connection_string = f\"postgresql://{db_user}:{db_password}@{db_host}:{db_port}/{db_name}\"\n",
    "\n",
    "# Create an engine instance using the connection string.\n",
    "# The engine is the starting point for any SQLAlchemy application.\n",
    "# It's \"home base\" for the actual database and its DBAPI, delivered to the SQLAlchemy application through a connection pool and a Dialect.\n",
    "engine = create_engine(connection_string)\n",
    "\n",
    "# Test the connection to the database by executing a raw SQL query.\n",
    "# This is done within a context manager to ensure that the connection is properly closed after use.\n",
    "with engine.connect() as connection:\n",
    "    # Execute a SQL query to select the first 3 rows from the 'cities_chart_data' table.\n",
    "    # The text function is used to create a SQL expression from the provided string.\n",
    "    result = connection.execute(text(\"select * from cities_chart limit 3\"))\n",
    "    \n",
    "    # Iterate over the result set, printing each row.\n",
    "    for row in result:\n",
    "        print(row)"
   ]
  }
 ],
 "metadata": {
  "kernelspec": {
   "display_name": "myenv",
   "language": "python",
   "name": "python3"
  },
  "language_info": {
   "codemirror_mode": {
    "name": "ipython",
    "version": 3
   },
   "file_extension": ".py",
   "mimetype": "text/x-python",
   "name": "python",
   "nbconvert_exporter": "python",
   "pygments_lexer": "ipython3",
   "version": "3.10.12"
  }
 },
 "nbformat": 4,
 "nbformat_minor": 2
}
