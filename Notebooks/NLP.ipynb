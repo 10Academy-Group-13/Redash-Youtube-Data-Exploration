{
 "cells": [
  {
   "cell_type": "code",
   "execution_count": 1,
   "metadata": {},
   "outputs": [],
   "source": [
    "import logging\n",
    "import sys\n",
    "\n",
    "logging.basicConfig(stream=sys.stdout, level=logging.INFO, force=True)\n",
    "logging.getLogger().addHandler(logging.StreamHandler(stream=sys.stdout))\n",
    "from IPython.display import Markdown, display"
   ]
  },
  {
   "cell_type": "code",
   "execution_count": 25,
   "metadata": {},
   "outputs": [
    {
     "name": "stdout",
     "output_type": "stream",
     "text": [
      "(datetime.date(2020, 6, 28), '0x164b85cef5ab402d:0x8467b6b037a24d49', 'Addis Ababa', 0)\n",
      "(datetime.date(2020, 6, 29), '0x164b85cef5ab402d:0x8467b6b037a24d49', 'Addis Ababa', 0)\n",
      "(datetime.date(2020, 6, 30), '0x164b85cef5ab402d:0x8467b6b037a24d49', 'Addis Ababa', 0)\n"
     ]
    }
   ],
   "source": [
    "from sqlalchemy import create_engine, text\n",
    "\n",
    "db_user = \"postgres\"\n",
    "db_password = \"postgres\"\n",
    "db_host = \"localhost\"\n",
    "db_port = \"5432\"\n",
    "db_name = \"youtube_data\"\n",
    "\n",
    "# Construct the connection string\n",
    "connection_string = f\"postgresql://{db_user}:{db_password}@{db_host}:{db_port}/{db_name}\"\n",
    "\n",
    "# Create an engine instance\n",
    "engine = create_engine(connection_string)\n",
    "\n",
    "# Test the connection using raw SQL\n",
    "with engine.connect() as connection:\n",
    "    result = connection.execute(text(\"select * from cities_chart_data limit 3\"))\n",
    "    for row in result:\n",
    "        print(row)"
   ]
  },
  {
   "cell_type": "code",
   "execution_count": 23,
   "metadata": {},
   "outputs": [
    {
     "name": "stdout",
     "output_type": "stream",
     "text": [
      "Data loaded successfully.\n"
     ]
    }
   ],
   "source": [
    "table_details = {\n",
    "    \"cities_chart\": \"stores customer’s data.\",\n",
    "    \"pcities_table\": \"stores a list of scale model cars.\",\n",
    "    \"productlines\": \"stores a list of product line categories.\",\n",
    "    \"orders\": \"stores sales orders placed by customers.\",\n",
    "    \"orderdetails\": \"stores sales order line items for each sales order.\",\n",
    "    \"payments\": \"stores payments made by customers based on their accounts.\",\n",
    "    \"employees\": \"stores all employee information as well as the organization structure such as who reports to whom.\",\n",
    "    \"offices\": \"stores sales office data.\"\n",
    "}"
   ]
  }
 ],
 "metadata": {
  "kernelspec": {
   "display_name": "myenv",
   "language": "python",
   "name": "python3"
  },
  "language_info": {
   "codemirror_mode": {
    "name": "ipython",
    "version": 3
   },
   "file_extension": ".py",
   "mimetype": "text/x-python",
   "name": "python",
   "nbconvert_exporter": "python",
   "pygments_lexer": "ipython3",
   "version": "3.10.12"
  }
 },
 "nbformat": 4,
 "nbformat_minor": 2
}
