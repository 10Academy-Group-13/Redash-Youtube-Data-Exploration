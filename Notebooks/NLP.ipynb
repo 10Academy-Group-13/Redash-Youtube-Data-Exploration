{
  "cells": [
    {
      "cell_type": "code",
      "execution_count": null,
      "metadata": {
        "id": "OnwKvZaUa4m9"
      },
      "outputs": [],
      "source": [
        "# Import the logging module, which is used for tracking events that happen when code runs.\n",
        "# Import the sys module, which provides access to some variables used or maintained by the Python interpreter.\n",
        "import logging\n",
        "import sys\n",
        "\n",
        "# Configure the logging module to output log messages to stdout (standard output, usually the terminal).\n",
        "# The level parameter sets the threshold for what messages will be logged. INFO means that all messages of level INFO and above will be logged.\n",
        "# force=True ensures that the configuration is applied even if there are other handlers already configured.\n",
        "logging.basicConfig(stream=sys.stdout, level=logging.INFO, force=True)\n",
        "\n",
        "# Get the root logger and add a handler to it. This handler will also output log messages to stdout.\n",
        "# This is done to ensure that log messages are displayed in the environment where the script is running.\n",
        "logging.getLogger().addHandler(logging.StreamHandler(stream=sys.stdout))\n",
        "\n",
        "# Import the Markdown class from the IPython.display module, which is used to display Markdown formatted text in Jupyter notebooks.\n",
        "from IPython.display import Markdown, display"
      ]
    },
    {
      "cell_type": "markdown",
      "metadata": {
        "id": "2AY0LKG0a4m-"
      },
      "source": [
        "## Establish connection with PostgreSQL database"
      ]
    },
    {
      "cell_type": "code",
      "execution_count": null,
      "metadata": {
        "id": "6I7R2Zt1a4m_",
        "outputId": "8242d86b-10a1-4753-8aca-f09cebd8eda4"
      },
      "outputs": [
        {
          "name": "stdout",
          "output_type": "stream",
          "text": [
            "('2020-06-28', '0x164b85cef5ab402d:0x8467b6b037a24d49', 'Addis Ababa', 0)\n",
            "('2020-06-29', '0x164b85cef5ab402d:0x8467b6b037a24d49', 'Addis Ababa', 0)\n",
            "('2020-06-30', '0x164b85cef5ab402d:0x8467b6b037a24d49', 'Addis Ababa', 0)\n"
          ]
        }
      ],
      "source": [
        "# Import the create_engine and text functions from the sqlalchemy module.\n",
        "# create_engine is used to create a connection to the database.\n",
        "# text is used to create SQL expressions.\n",
        "from sqlalchemy import create_engine, text\n",
        "\n",
        "# Define the database credentials and connection details.\n",
        "db_user = \"postgres\"\n",
        "db_password = \"postgres\"\n",
        "db_host = \"localhost\"\n",
        "db_port = \"5432\"\n",
        "db_name = \"youtube_data\"\n",
        "\n",
        "# Construct the connection string using the defined credentials and connection details.\n",
        "# The format is specific to PostgreSQL databases.\n",
        "connection_string = f\"postgresql://{db_user}:{db_password}@{db_host}:{db_port}/{db_name}\"\n",
        "\n",
        "# Create an engine instance using the connection string.\n",
        "# The engine is the starting point for any SQLAlchemy application.\n",
        "# It's \"home base\" for the actual database and its DBAPI, delivered to the SQLAlchemy application through a connection pool and a Dialect.\n",
        "engine = create_engine(connection_string)\n",
        "\n",
        "# Test the connection to the database by executing a raw SQL query.\n",
        "# This is done within a context manager to ensure that the connection is properly closed after use.\n",
        "with engine.connect() as connection:\n",
        "    # Execute a SQL query to select the first 3 rows from the 'cities_chart' table.\n",
        "    # The text function is used to create a SQL expression from the provided string.\n",
        "    result = connection.execute(text(\"select * from cities_chart limit 3\"))\n",
        "\n",
        "    # Iterate over the result set, printing each row.\n",
        "    for row in result:\n",
        "        print(row)"
      ]
    },
    {
      "cell_type": "markdown",
      "metadata": {
        "id": "YPUQq4f-a4nA"
      },
      "source": [
        "## Description of tables"
      ]
    },
    {
      "cell_type": "code",
      "execution_count": null,
      "metadata": {
        "id": "Ouctassxa4nA"
      },
      "outputs": [],
      "source": [
        "# Descriging each table for accurate SQL\n",
        "table_details = {\n",
        "\"cities_chart\": \"Cities chart data\",\n",
        "\"cities_table\": \"Cities table data\",\n",
        "\"content_type_chart\": \"Content type chart data\",\n",
        "\"content_type_table \": \"Content type data\",\n",
        "\"device_type_chart \": \"Device type chart data\",\n",
        "\"device_type_table \": \"Device type table data\",\n",
        "\"geography_chart\": \"Geographyb chart data\",\n",
        "\"geography_table\": \"Geography table data\",\n",
        "\"new_and_returning_viewers_chart\": \"Vew and returning viewers chart data\",\n",
        "\"new_and_returning_viewers_table\": \"New and returning viewers table data\",\n",
        "\"operating_system_chart\": \"Operating system chart data\",\n",
        "\"operating_system_table\": \"Operating system table data\",\n",
        "\"sharing_service_chart\": \"Sharing service chart data\",\n",
        "\"sharing_service_table\": \"Sharing service table data\",\n",
        "\"subscription_source_chart\": \"Subscription source chart data\",\n",
        "\"subscription_source_table\": \"Subscription source table data\",\n",
        "\"subscription_status_chart\": \"Subscription status chart data\",\n",
        "\"subscription_status_table\": \"Subscription status table data\",\n",
        "\"subtitles_and_cc_chart\": \"Subtitles and closed caption chart data\",\n",
        "\"subtitles_and_cc_table\": \"Subtitles and closed caption table data\",\n",
        "\"traffic_source_chart\": \"Traffic source chart data\",\n",
        "\"traffic_source_table\": \"Traffic source table data\",\n",
        "\"viewer_age_table\": \"Viewer age table data\",\n",
        "\"viewer_gender_table\": \"Viewer gender table data\",\n",
        "\"viewership_by_age_table\": \"Viewership by age table data\",\n",
        "\"viewership_by_date_table\": \"Viewership by date table data\"\n",
        "}"
      ]
    },
    {
      "cell_type": "markdown",
      "metadata": {
        "id": "-CwzElsYa4nA"
      },
      "source": [
        "## Listing all tables"
      ]
    },
    {
      "cell_type": "code",
      "execution_count": null,
      "metadata": {
        "id": "F4w1tbiea4nA",
        "outputId": "ae2a9291-f9f6-4ebe-adf8-328e49fc8367"
      },
      "outputs": [
        {
          "data": {
            "text/plain": [
              "['subscription_source_chart',\n",
              " 'cities_chart',\n",
              " 'device_type_table',\n",
              " 'sharing_service_table',\n",
              " 'operating_system_table',\n",
              " 'sharing_service_chart',\n",
              " 'subscription_status_table',\n",
              " 'geography_table',\n",
              " 'device_type_chart',\n",
              " 'content_type_table',\n",
              " 'traffic_source_chart',\n",
              " 'operating_system_chart',\n",
              " 'subscription_source_table',\n",
              " 'content_type_chart',\n",
              " 'viewership_by_age_table',\n",
              " 'subscription_status_chart',\n",
              " 'viewer_gender_table',\n",
              " 'traffic_source_table',\n",
              " 'new_and_returning_viewers_table',\n",
              " 'geography_chart',\n",
              " 'new_and_returning_viewers_chart',\n",
              " 'cities_table',\n",
              " 'viewer_age_table']"
            ]
          },
          "execution_count": 10,
          "metadata": {},
          "output_type": "execute_result"
        }
      ],
      "source": [
        "# Importing the SQLDatabase class from the llama_index.core module\n",
        "from llama_index.core import SQLDatabase\n",
        "\n",
        "# Creating an instance of SQLDatabase with the specified engine and sample_rows_in_table_info parameter set to 2\n",
        "# Note: The include_tables parameter is commented out, so only the tables specified in the tables list will be included\n",
        "sql_database = SQLDatabase(engine, sample_rows_in_table_info=2)\n",
        "\n",
        "# Listing all tables in the SQL database\n",
        "list(sql_database._all_tables)"
      ]
    },
    {
      "cell_type": "markdown",
      "metadata": {
        "id": "NkhYs-GCa4nA"
      },
      "source": [
        "## Displaying metadata - each column in each table"
      ]
    },
    {
      "cell_type": "code",
      "execution_count": null,
      "metadata": {
        "id": "t1653nxka4nB",
        "outputId": "55f5ad9a-9c71-4ee2-d609-03b975233fa8"
      },
      "outputs": [
        {
          "name": "stdout",
          "output_type": "stream",
          "text": [
            "Table Name: cities_table\n",
            "Columns: ['cities', 'cityname', 'geography', 'geography1', 'views', 'watchtimehours', 'averageviewduration']\n",
            "Table Name: cities_chart\n",
            "Columns: ['date', 'cities', 'cityname', 'views']\n",
            "Table Name: content_type_table\n",
            "Columns: ['contenttype', 'views', 'watchtimehours', 'averageviewduration']\n",
            "Table Name: content_type_chart\n",
            "Columns: ['date', 'contenttype', 'views']\n",
            "Table Name: new_and_returning_viewers_table\n",
            "Columns: ['newandreturningviewers', 'views', 'watchtimehours', 'averageviewduration']\n",
            "Table Name: new_and_returning_viewers_chart\n",
            "Columns: ['date', 'newandreturningviewers', 'views']\n",
            "Table Name: device_type_table\n",
            "Columns: ['devicetype', 'views', 'watchtimehours', 'averageviewduration']\n",
            "Table Name: device_type_chart\n",
            "Columns: ['date', 'devicetype', 'views']\n",
            "Table Name: geography_table\n",
            "Columns: ['geography', 'views', 'watchtimehours', 'averageviewduration']\n",
            "Table Name: geography_chart\n",
            "Columns: ['date', 'geography', 'views']\n",
            "Table Name: operating_system_table\n",
            "Columns: ['operatingsystem', 'views', 'watchtimehours', 'averageviewduration']\n",
            "Table Name: operating_system_chart\n",
            "Columns: ['date', 'operatingsystem', 'views']\n",
            "Table Name: sharing_service_table\n",
            "Columns: ['sharingservice', 'shares']\n",
            "Table Name: sharing_service_chart\n",
            "Columns: ['date', 'sharingservice', 'shares']\n",
            "Table Name: subscription_source_table\n",
            "Columns: ['subscriptionsource', 'subscribers', 'subscribersgained', 'subscriberslost']\n",
            "Table Name: subscription_source_chart\n",
            "Columns: ['date', 'subscriptionsource', 'subscribers']\n",
            "Table Name: subscription_status_table\n",
            "Columns: ['subscriptionstatus', 'views', 'watchtimehours', 'averageviewduration']\n",
            "Table Name: subscription_status_chart\n",
            "Columns: ['date', 'subscriptionstatus', 'views']\n",
            "Table Name: traffic_source_table\n",
            "Columns: ['trafficsource', 'views', 'watchtimehours', 'averageviewduration', 'impressions', 'impressionsclickthroughrate']\n",
            "Table Name: traffic_source_chart\n",
            "Columns: ['date', 'trafficsource', 'views']\n",
            "Table Name: viewer_age_table\n",
            "Columns: ['viewerage', 'viewspercentage', 'averageviewduration', 'averagepercentageviewed', 'watchtimehourspercentage']\n",
            "Table Name: viewer_gender_table\n",
            "Columns: ['viewergender', 'viewspercentage', 'averageviewduration', 'averagepercentageviewed', 'watchtimehourspercentage']\n",
            "Table Name: viewership_by_age_table\n",
            "Columns: ['date', 'views', 'watchtimehours', 'averageviewduration']\n"
          ]
        }
      ],
      "source": [
        "# Importing necessary modules from SQLAlchemy\n",
        "from sqlalchemy import MetaData\n",
        "\n",
        "# Creating an engine instance for connecting to the PostgreSQL database\n",
        "# Replace the placeholders with actual database credentials\n",
        "engine = create_engine(f\"postgresql://{db_user}:{db_password}@{db_host}:{db_port}/{db_name}\")\n",
        "\n",
        "# Creating a MetaData instance\n",
        "metadata = MetaData()\n",
        "\n",
        "# Reflecting the database schema to load table metadata\n",
        "metadata.reflect(bind=engine)\n",
        "\n",
        "# Iterating through each table in the database\n",
        "for table_name, table in metadata.tables.items():\n",
        "    # Printing the name of the current table\n",
        "    print(f\"Table Name: {table_name}\")\n",
        "\n",
        "    # Printing the names of the columns in the current table\n",
        "    print(f\"Columns: {table.columns.keys()}\")"
      ]
    },
    {
      "cell_type": "markdown",
      "metadata": {
        "id": "povJI1JHa4nB"
      },
      "source": [
        "## Assign API key to OpenAI module"
      ]
    },
    {
      "cell_type": "code",
      "execution_count": null,
      "metadata": {
        "id": "Eh1ihN63a4nB"
      },
      "outputs": [],
      "source": [
        "import os\n",
        "from dotenv import load_dotenv\n",
        "import openai\n",
        "\n",
        "# Load environment variables from.env file\n",
        "load_dotenv()\n",
        "\n",
        "# Access OPENAI_API_KEY using os.environ\n",
        "OPENAI_API_KEY = os.environ.get(\"OPENAI_API_KEY\")\n",
        "\n",
        "# Set the OPENAI_API_KEY environment variable\n",
        "os.environ[\"OPENAI_API_KEY\"] = OPENAI_API_KEY\n",
        "\n",
        "# Assign the API key to the openai module\n",
        "openai.api_key = os.environ[\"OPENAI_API_KEY\"]\n"
      ]
    },
    {
      "cell_type": "markdown",
      "metadata": {
        "id": "L7v88Ax_a4nB"
      },
      "source": [
        "##  Working with the OpenAI language model, text splitting, embedding, and prompt handling."
      ]
    },
    {
      "cell_type": "code",
      "execution_count": null,
      "metadata": {
        "id": "hqj1iaqUa4nB",
        "outputId": "22e21a75-f51d-4222-d6ac-e2425ad4edac"
      },
      "outputs": [
        {
          "name": "stderr",
          "output_type": "stream",
          "text": [
            "/tmp/ipykernel_20975/3348819956.py:30: DeprecationWarning: Call to deprecated class method from_defaults. (ServiceContext is deprecated, please use `llama_index.settings.Settings` instead.) -- Deprecated since version 0.10.0.\n",
            "  service_context_instance = ServiceContext.from_defaults(\n"
          ]
        }
      ],
      "source": [
        "# Import necessary modules and classes\n",
        "from llama_index.core import ServiceContext, PromptHelper\n",
        "from llama_index.embeddings.openai import OpenAIEmbedding\n",
        "from llama_index.llms.openai import OpenAI\n",
        "from llama_index.core.text_splitter import TokenTextSplitter\n",
        "from llama_index.core.node_parser import SimpleNodeParser\n",
        "\n",
        "# Instantiate the OpenAI language model with specific parameters\n",
        "language_model = OpenAI(model=\"gpt-3.5-turbo\", temperature=0.1)\n",
        "\n",
        "# Initialize the OpenAIEmbedding model\n",
        "embedding_model = OpenAIEmbedding()\n",
        "\n",
        "# Instantiate a TokenTextSplitter for splitting text into chunks\n",
        "text_splitter_instance = TokenTextSplitter(chunk_size=1024, chunk_overlap=20)\n",
        "\n",
        "# Initialize a SimpleNodeParser instance\n",
        "# Note: Modify this line if `text_splitter` is not a valid argument for SimpleNodeParser\n",
        "node_parser_instance = SimpleNodeParser()\n",
        "\n",
        "# Instantiate a PromptHelper with specified parameters\n",
        "prompt_helper_instance = PromptHelper(\n",
        "    context_window=4096,\n",
        "    num_output=256,\n",
        "    chunk_overlap_ratio=0.1,\n",
        "    chunk_size_limit=None,\n",
        ")\n",
        "\n",
        "# Instantiate a ServiceContext with the specified components\n",
        "service_context_instance = ServiceContext.from_defaults(\n",
        "    llm=language_model,\n",
        "    embed_model=embedding_model,\n",
        "    node_parser=node_parser_instance,\n",
        "    prompt_helper=prompt_helper_instance,\n",
        ")"
      ]
    },
    {
      "cell_type": "markdown",
      "metadata": {
        "id": "b3t7STN9a4nC"
      },
      "source": [
        "## Creating an instance of NLSQLTableQueryEngine"
      ]
    },
    {
      "cell_type": "code",
      "execution_count": null,
      "metadata": {
        "id": "3PQ-IW6Za4nC"
      },
      "outputs": [],
      "source": [
        "# Importing the NLSQLTableQueryEngine from the llama_index.core.indices.struct_store.sql_query module\n",
        "from llama_index.core.indices.struct_store.sql_query import NLSQLTableQueryEngine\n",
        "\n",
        "# Creating an instance of NLSQLTableQueryEngine\n",
        "# This engine is configured with the specified SQL database and service context\n",
        "query_engine = NLSQLTableQueryEngine(\n",
        "    sql_database=sql_database,\n",
        "    service_context=service_context_instance\n",
        ")"
      ]
    },
    {
      "cell_type": "markdown",
      "metadata": {
        "id": "GoUnwsCZa4nC"
      },
      "source": [
        "## Assigning a natural language query to a variable and execution"
      ]
    },
    {
      "cell_type": "code",
      "execution_count": null,
      "metadata": {
        "collapsed": true,
        "id": "bCBgiJq1a4nC",
        "outputId": "8ac08fd3-adc8-4b17-b370-cbbf673dc536"
      },
      "outputs": [
        {
          "name": "stdout",
          "output_type": "stream",
          "text": [
            "INFO:llama_index.core.indices.struct_store.sql_retriever:> Table desc str: Table 'cities_chart' has columns: date (TEXT), cities (TEXT), cityname (TEXT), views (INTEGER), and foreign keys: ['cityname'] -> cities_table.['cityname'].\n",
            "\n",
            "Table 'cities_table' has columns: cities (TEXT), cityname (TEXT), geography (TEXT), geography1 (TEXT), views (INTEGER), watchtimehours (DOUBLE PRECISION), averageviewduration (TEXT), and foreign keys: .\n",
            "\n",
            "Table 'content_type_chart' has columns: date (TEXT), contenttype (TEXT), views (INTEGER), and foreign keys: ['contenttype'] -> content_type_table.['contenttype'].\n",
            "\n",
            "Table 'content_type_table' has columns: contenttype (TEXT), views (INTEGER), watchtimehours (DOUBLE PRECISION), averageviewduration (TEXT), and foreign keys: .\n",
            "\n",
            "Table 'device_type_chart' has columns: date (TEXT), devicetype (TEXT), views (INTEGER), and foreign keys: ['devicetype'] -> device_type_table.['devicetype'].\n",
            "\n",
            "Table 'device_type_table' has columns: devicetype (TEXT), views (INTEGER), watchtimehours (DOUBLE PRECISION), averageviewduration (TEXT), and foreign keys: .\n",
            "\n",
            "Table 'geography_chart' has columns: date (TEXT), geography (TEXT), views (INTEGER), and foreign keys: ['geography'] -> geography_table.['geography'].\n",
            "\n",
            "Table 'geography_table' has columns: geography (TEXT), views (INTEGER), watchtimehours (DOUBLE PRECISION), averageviewduration (TEXT), and foreign keys: .\n",
            "\n",
            "Table 'new_and_returning_viewers_chart' has columns: date (TEXT), newandreturningviewers (TEXT), views (INTEGER), and foreign keys: ['newandreturningviewers'] -> new_and_returning_viewers_table.['newandreturningviewers'].\n",
            "\n",
            "Table 'new_and_returning_viewers_table' has columns: newandreturningviewers (TEXT), views (INTEGER), watchtimehours (DOUBLE PRECISION), averageviewduration (TEXT), and foreign keys: .\n",
            "\n",
            "Table 'operating_system_chart' has columns: date (TEXT), operatingsystem (TEXT), views (INTEGER), and foreign keys: ['operatingsystem'] -> operating_system_table.['operatingsystem'].\n",
            "\n",
            "Table 'operating_system_table' has columns: operatingsystem (TEXT), views (INTEGER), watchtimehours (DOUBLE PRECISION), averageviewduration (TEXT), and foreign keys: .\n",
            "\n",
            "Table 'sharing_service_chart' has columns: date (TEXT), sharingservice (TEXT), shares (INTEGER), and foreign keys: ['sharingservice'] -> sharing_service_table.['sharingservice'].\n",
            "\n",
            "Table 'sharing_service_table' has columns: sharingservice (TEXT), shares (INTEGER), and foreign keys: .\n",
            "\n",
            "Table 'subscription_source_chart' has columns: date (TEXT), subscriptionsource (TEXT), subscribers (INTEGER), and foreign keys: ['subscriptionsource'] -> subscription_source_table.['subscriptionsource'].\n",
            "\n",
            "Table 'subscription_source_table' has columns: subscriptionsource (TEXT), subscribers (INTEGER), subscribersgained (INTEGER), subscriberslost (INTEGER), and foreign keys: .\n",
            "\n",
            "Table 'subscription_status_chart' has columns: date (TEXT), subscriptionstatus (TEXT), views (INTEGER), and foreign keys: ['subscriptionstatus'] -> subscription_status_table.['subscriptionstatus'].\n",
            "\n",
            "Table 'subscription_status_table' has columns: subscriptionstatus (TEXT), views (INTEGER), watchtimehours (DOUBLE PRECISION), averageviewduration (TEXT), and foreign keys: .\n",
            "\n",
            "Table 'traffic_source_chart' has columns: date (TEXT), trafficsource (TEXT), views (INTEGER), and foreign keys: ['trafficsource'] -> traffic_source_table.['trafficsource'].\n",
            "\n",
            "Table 'traffic_source_table' has columns: trafficsource (TEXT), views (DOUBLE PRECISION), watchtimehours (DOUBLE PRECISION), averageviewduration (TEXT), impressions (DOUBLE PRECISION), impressionsclickthroughrate (DOUBLE PRECISION), and foreign keys: .\n",
            "\n",
            "Table 'viewer_age_table' has columns: viewerage (TEXT), viewspercentage (DOUBLE PRECISION), averageviewduration (TEXT), averagepercentageviewed (DOUBLE PRECISION), watchtimehourspercentage (DOUBLE PRECISION), and foreign keys: .\n",
            "\n",
            "Table 'viewer_gender_table' has columns: viewergender (TEXT), viewspercentage (DOUBLE PRECISION), averageviewduration (TEXT), averagepercentageviewed (DOUBLE PRECISION), watchtimehourspercentage (DOUBLE PRECISION), and foreign keys: .\n",
            "\n",
            "Table 'viewership_by_age_table' has columns: date (TEXT), views (DOUBLE PRECISION), watchtimehours (DOUBLE PRECISION), averageviewduration (TEXT), and foreign keys: .\n",
            "> Table desc str: Table 'cities_chart' has columns: date (TEXT), cities (TEXT), cityname (TEXT), views (INTEGER), and foreign keys: ['cityname'] -> cities_table.['cityname'].\n",
            "\n",
            "Table 'cities_table' has columns: cities (TEXT), cityname (TEXT), geography (TEXT), geography1 (TEXT), views (INTEGER), watchtimehours (DOUBLE PRECISION), averageviewduration (TEXT), and foreign keys: .\n",
            "\n",
            "Table 'content_type_chart' has columns: date (TEXT), contenttype (TEXT), views (INTEGER), and foreign keys: ['contenttype'] -> content_type_table.['contenttype'].\n",
            "\n",
            "Table 'content_type_table' has columns: contenttype (TEXT), views (INTEGER), watchtimehours (DOUBLE PRECISION), averageviewduration (TEXT), and foreign keys: .\n",
            "\n",
            "Table 'device_type_chart' has columns: date (TEXT), devicetype (TEXT), views (INTEGER), and foreign keys: ['devicetype'] -> device_type_table.['devicetype'].\n",
            "\n",
            "Table 'device_type_table' has columns: devicetype (TEXT), views (INTEGER), watchtimehours (DOUBLE PRECISION), averageviewduration (TEXT), and foreign keys: .\n",
            "\n",
            "Table 'geography_chart' has columns: date (TEXT), geography (TEXT), views (INTEGER), and foreign keys: ['geography'] -> geography_table.['geography'].\n",
            "\n",
            "Table 'geography_table' has columns: geography (TEXT), views (INTEGER), watchtimehours (DOUBLE PRECISION), averageviewduration (TEXT), and foreign keys: .\n",
            "\n",
            "Table 'new_and_returning_viewers_chart' has columns: date (TEXT), newandreturningviewers (TEXT), views (INTEGER), and foreign keys: ['newandreturningviewers'] -> new_and_returning_viewers_table.['newandreturningviewers'].\n",
            "\n",
            "Table 'new_and_returning_viewers_table' has columns: newandreturningviewers (TEXT), views (INTEGER), watchtimehours (DOUBLE PRECISION), averageviewduration (TEXT), and foreign keys: .\n",
            "\n",
            "Table 'operating_system_chart' has columns: date (TEXT), operatingsystem (TEXT), views (INTEGER), and foreign keys: ['operatingsystem'] -> operating_system_table.['operatingsystem'].\n",
            "\n",
            "Table 'operating_system_table' has columns: operatingsystem (TEXT), views (INTEGER), watchtimehours (DOUBLE PRECISION), averageviewduration (TEXT), and foreign keys: .\n",
            "\n",
            "Table 'sharing_service_chart' has columns: date (TEXT), sharingservice (TEXT), shares (INTEGER), and foreign keys: ['sharingservice'] -> sharing_service_table.['sharingservice'].\n",
            "\n",
            "Table 'sharing_service_table' has columns: sharingservice (TEXT), shares (INTEGER), and foreign keys: .\n",
            "\n",
            "Table 'subscription_source_chart' has columns: date (TEXT), subscriptionsource (TEXT), subscribers (INTEGER), and foreign keys: ['subscriptionsource'] -> subscription_source_table.['subscriptionsource'].\n",
            "\n",
            "Table 'subscription_source_table' has columns: subscriptionsource (TEXT), subscribers (INTEGER), subscribersgained (INTEGER), subscriberslost (INTEGER), and foreign keys: .\n",
            "\n",
            "Table 'subscription_status_chart' has columns: date (TEXT), subscriptionstatus (TEXT), views (INTEGER), and foreign keys: ['subscriptionstatus'] -> subscription_status_table.['subscriptionstatus'].\n",
            "\n",
            "Table 'subscription_status_table' has columns: subscriptionstatus (TEXT), views (INTEGER), watchtimehours (DOUBLE PRECISION), averageviewduration (TEXT), and foreign keys: .\n",
            "\n",
            "Table 'traffic_source_chart' has columns: date (TEXT), trafficsource (TEXT), views (INTEGER), and foreign keys: ['trafficsource'] -> traffic_source_table.['trafficsource'].\n",
            "\n",
            "Table 'traffic_source_table' has columns: trafficsource (TEXT), views (DOUBLE PRECISION), watchtimehours (DOUBLE PRECISION), averageviewduration (TEXT), impressions (DOUBLE PRECISION), impressionsclickthroughrate (DOUBLE PRECISION), and foreign keys: .\n",
            "\n",
            "Table 'viewer_age_table' has columns: viewerage (TEXT), viewspercentage (DOUBLE PRECISION), averageviewduration (TEXT), averagepercentageviewed (DOUBLE PRECISION), watchtimehourspercentage (DOUBLE PRECISION), and foreign keys: .\n",
            "\n",
            "Table 'viewer_gender_table' has columns: viewergender (TEXT), viewspercentage (DOUBLE PRECISION), averageviewduration (TEXT), averagepercentageviewed (DOUBLE PRECISION), watchtimehourspercentage (DOUBLE PRECISION), and foreign keys: .\n",
            "\n",
            "Table 'viewership_by_age_table' has columns: date (TEXT), views (DOUBLE PRECISION), watchtimehours (DOUBLE PRECISION), averageviewduration (TEXT), and foreign keys: .\n"
          ]
        },
        {
          "name": "stdout",
          "output_type": "stream",
          "text": [
            "INFO:httpx:HTTP Request: POST https://api.openai.com/v1/chat/completions \"HTTP/1.1 200 OK\"\n",
            "HTTP Request: POST https://api.openai.com/v1/chat/completions \"HTTP/1.1 200 OK\"\n",
            "INFO:httpx:HTTP Request: POST https://api.openai.com/v1/chat/completions \"HTTP/1.1 200 OK\"\n",
            "HTTP Request: POST https://api.openai.com/v1/chat/completions \"HTTP/1.1 200 OK\"\n",
            "INFO:llama_index.core.indices.struct_store.sql_retriever:> Table desc str: Table 'cities_chart' has columns: date (TEXT), cities (TEXT), cityname (TEXT), views (INTEGER), and foreign keys: ['cityname'] -> cities_table.['cityname'].\n",
            "\n",
            "Table 'cities_table' has columns: cities (TEXT), cityname (TEXT), geography (TEXT), geography1 (TEXT), views (INTEGER), watchtimehours (DOUBLE PRECISION), averageviewduration (TEXT), and foreign keys: .\n",
            "\n",
            "Table 'content_type_chart' has columns: date (TEXT), contenttype (TEXT), views (INTEGER), and foreign keys: ['contenttype'] -> content_type_table.['contenttype'].\n",
            "\n",
            "Table 'content_type_table' has columns: contenttype (TEXT), views (INTEGER), watchtimehours (DOUBLE PRECISION), averageviewduration (TEXT), and foreign keys: .\n",
            "\n",
            "Table 'device_type_chart' has columns: date (TEXT), devicetype (TEXT), views (INTEGER), and foreign keys: ['devicetype'] -> device_type_table.['devicetype'].\n",
            "\n",
            "Table 'device_type_table' has columns: devicetype (TEXT), views (INTEGER), watchtimehours (DOUBLE PRECISION), averageviewduration (TEXT), and foreign keys: .\n",
            "\n",
            "Table 'geography_chart' has columns: date (TEXT), geography (TEXT), views (INTEGER), and foreign keys: ['geography'] -> geography_table.['geography'].\n",
            "\n",
            "Table 'geography_table' has columns: geography (TEXT), views (INTEGER), watchtimehours (DOUBLE PRECISION), averageviewduration (TEXT), and foreign keys: .\n",
            "\n",
            "Table 'new_and_returning_viewers_chart' has columns: date (TEXT), newandreturningviewers (TEXT), views (INTEGER), and foreign keys: ['newandreturningviewers'] -> new_and_returning_viewers_table.['newandreturningviewers'].\n",
            "\n",
            "Table 'new_and_returning_viewers_table' has columns: newandreturningviewers (TEXT), views (INTEGER), watchtimehours (DOUBLE PRECISION), averageviewduration (TEXT), and foreign keys: .\n",
            "\n",
            "Table 'operating_system_chart' has columns: date (TEXT), operatingsystem (TEXT), views (INTEGER), and foreign keys: ['operatingsystem'] -> operating_system_table.['operatingsystem'].\n",
            "\n",
            "Table 'operating_system_table' has columns: operatingsystem (TEXT), views (INTEGER), watchtimehours (DOUBLE PRECISION), averageviewduration (TEXT), and foreign keys: .\n",
            "\n",
            "Table 'sharing_service_chart' has columns: date (TEXT), sharingservice (TEXT), shares (INTEGER), and foreign keys: ['sharingservice'] -> sharing_service_table.['sharingservice'].\n",
            "\n",
            "Table 'sharing_service_table' has columns: sharingservice (TEXT), shares (INTEGER), and foreign keys: .\n",
            "\n",
            "Table 'subscription_source_chart' has columns: date (TEXT), subscriptionsource (TEXT), subscribers (INTEGER), and foreign keys: ['subscriptionsource'] -> subscription_source_table.['subscriptionsource'].\n",
            "\n",
            "Table 'subscription_source_table' has columns: subscriptionsource (TEXT), subscribers (INTEGER), subscribersgained (INTEGER), subscriberslost (INTEGER), and foreign keys: .\n",
            "\n",
            "Table 'subscription_status_chart' has columns: date (TEXT), subscriptionstatus (TEXT), views (INTEGER), and foreign keys: ['subscriptionstatus'] -> subscription_status_table.['subscriptionstatus'].\n",
            "\n",
            "Table 'subscription_status_table' has columns: subscriptionstatus (TEXT), views (INTEGER), watchtimehours (DOUBLE PRECISION), averageviewduration (TEXT), and foreign keys: .\n",
            "\n",
            "Table 'traffic_source_chart' has columns: date (TEXT), trafficsource (TEXT), views (INTEGER), and foreign keys: ['trafficsource'] -> traffic_source_table.['trafficsource'].\n",
            "\n",
            "Table 'traffic_source_table' has columns: trafficsource (TEXT), views (DOUBLE PRECISION), watchtimehours (DOUBLE PRECISION), averageviewduration (TEXT), impressions (DOUBLE PRECISION), impressionsclickthroughrate (DOUBLE PRECISION), and foreign keys: .\n",
            "\n",
            "Table 'viewer_age_table' has columns: viewerage (TEXT), viewspercentage (DOUBLE PRECISION), averageviewduration (TEXT), averagepercentageviewed (DOUBLE PRECISION), watchtimehourspercentage (DOUBLE PRECISION), and foreign keys: .\n",
            "\n",
            "Table 'viewer_gender_table' has columns: viewergender (TEXT), viewspercentage (DOUBLE PRECISION), averageviewduration (TEXT), averagepercentageviewed (DOUBLE PRECISION), watchtimehourspercentage (DOUBLE PRECISION), and foreign keys: .\n",
            "\n",
            "Table 'viewership_by_age_table' has columns: date (TEXT), views (DOUBLE PRECISION), watchtimehours (DOUBLE PRECISION), averageviewduration (TEXT), and foreign keys: .\n",
            "> Table desc str: Table 'cities_chart' has columns: date (TEXT), cities (TEXT), cityname (TEXT), views (INTEGER), and foreign keys: ['cityname'] -> cities_table.['cityname'].\n",
            "\n",
            "Table 'cities_table' has columns: cities (TEXT), cityname (TEXT), geography (TEXT), geography1 (TEXT), views (INTEGER), watchtimehours (DOUBLE PRECISION), averageviewduration (TEXT), and foreign keys: .\n",
            "\n",
            "Table 'content_type_chart' has columns: date (TEXT), contenttype (TEXT), views (INTEGER), and foreign keys: ['contenttype'] -> content_type_table.['contenttype'].\n",
            "\n",
            "Table 'content_type_table' has columns: contenttype (TEXT), views (INTEGER), watchtimehours (DOUBLE PRECISION), averageviewduration (TEXT), and foreign keys: .\n",
            "\n",
            "Table 'device_type_chart' has columns: date (TEXT), devicetype (TEXT), views (INTEGER), and foreign keys: ['devicetype'] -> device_type_table.['devicetype'].\n",
            "\n",
            "Table 'device_type_table' has columns: devicetype (TEXT), views (INTEGER), watchtimehours (DOUBLE PRECISION), averageviewduration (TEXT), and foreign keys: .\n",
            "\n",
            "Table 'geography_chart' has columns: date (TEXT), geography (TEXT), views (INTEGER), and foreign keys: ['geography'] -> geography_table.['geography'].\n",
            "\n",
            "Table 'geography_table' has columns: geography (TEXT), views (INTEGER), watchtimehours (DOUBLE PRECISION), averageviewduration (TEXT), and foreign keys: .\n",
            "\n",
            "Table 'new_and_returning_viewers_chart' has columns: date (TEXT), newandreturningviewers (TEXT), views (INTEGER), and foreign keys: ['newandreturningviewers'] -> new_and_returning_viewers_table.['newandreturningviewers'].\n",
            "\n",
            "Table 'new_and_returning_viewers_table' has columns: newandreturningviewers (TEXT), views (INTEGER), watchtimehours (DOUBLE PRECISION), averageviewduration (TEXT), and foreign keys: .\n",
            "\n",
            "Table 'operating_system_chart' has columns: date (TEXT), operatingsystem (TEXT), views (INTEGER), and foreign keys: ['operatingsystem'] -> operating_system_table.['operatingsystem'].\n",
            "\n",
            "Table 'operating_system_table' has columns: operatingsystem (TEXT), views (INTEGER), watchtimehours (DOUBLE PRECISION), averageviewduration (TEXT), and foreign keys: .\n",
            "\n",
            "Table 'sharing_service_chart' has columns: date (TEXT), sharingservice (TEXT), shares (INTEGER), and foreign keys: ['sharingservice'] -> sharing_service_table.['sharingservice'].\n",
            "\n",
            "Table 'sharing_service_table' has columns: sharingservice (TEXT), shares (INTEGER), and foreign keys: .\n",
            "\n",
            "Table 'subscription_source_chart' has columns: date (TEXT), subscriptionsource (TEXT), subscribers (INTEGER), and foreign keys: ['subscriptionsource'] -> subscription_source_table.['subscriptionsource'].\n",
            "\n",
            "Table 'subscription_source_table' has columns: subscriptionsource (TEXT), subscribers (INTEGER), subscribersgained (INTEGER), subscriberslost (INTEGER), and foreign keys: .\n",
            "\n",
            "Table 'subscription_status_chart' has columns: date (TEXT), subscriptionstatus (TEXT), views (INTEGER), and foreign keys: ['subscriptionstatus'] -> subscription_status_table.['subscriptionstatus'].\n",
            "\n",
            "Table 'subscription_status_table' has columns: subscriptionstatus (TEXT), views (INTEGER), watchtimehours (DOUBLE PRECISION), averageviewduration (TEXT), and foreign keys: .\n",
            "\n",
            "Table 'traffic_source_chart' has columns: date (TEXT), trafficsource (TEXT), views (INTEGER), and foreign keys: ['trafficsource'] -> traffic_source_table.['trafficsource'].\n",
            "\n",
            "Table 'traffic_source_table' has columns: trafficsource (TEXT), views (DOUBLE PRECISION), watchtimehours (DOUBLE PRECISION), averageviewduration (TEXT), impressions (DOUBLE PRECISION), impressionsclickthroughrate (DOUBLE PRECISION), and foreign keys: .\n",
            "\n",
            "Table 'viewer_age_table' has columns: viewerage (TEXT), viewspercentage (DOUBLE PRECISION), averageviewduration (TEXT), averagepercentageviewed (DOUBLE PRECISION), watchtimehourspercentage (DOUBLE PRECISION), and foreign keys: .\n",
            "\n",
            "Table 'viewer_gender_table' has columns: viewergender (TEXT), viewspercentage (DOUBLE PRECISION), averageviewduration (TEXT), averagepercentageviewed (DOUBLE PRECISION), watchtimehourspercentage (DOUBLE PRECISION), and foreign keys: .\n",
            "\n",
            "Table 'viewership_by_age_table' has columns: date (TEXT), views (DOUBLE PRECISION), watchtimehours (DOUBLE PRECISION), averageviewduration (TEXT), and foreign keys: .\n",
            "INFO:httpx:HTTP Request: POST https://api.openai.com/v1/chat/completions \"HTTP/1.1 200 OK\"\n",
            "HTTP Request: POST https://api.openai.com/v1/chat/completions \"HTTP/1.1 200 OK\"\n",
            "INFO:httpx:HTTP Request: POST https://api.openai.com/v1/chat/completions \"HTTP/1.1 200 OK\"\n",
            "HTTP Request: POST https://api.openai.com/v1/chat/completions \"HTTP/1.1 200 OK\"\n",
            "INFO:llama_index.core.indices.struct_store.sql_retriever:> Table desc str: Table 'cities_chart' has columns: date (TEXT), cities (TEXT), cityname (TEXT), views (INTEGER), and foreign keys: ['cityname'] -> cities_table.['cityname'].\n",
            "\n",
            "Table 'cities_table' has columns: cities (TEXT), cityname (TEXT), geography (TEXT), geography1 (TEXT), views (INTEGER), watchtimehours (DOUBLE PRECISION), averageviewduration (TEXT), and foreign keys: .\n",
            "\n",
            "Table 'content_type_chart' has columns: date (TEXT), contenttype (TEXT), views (INTEGER), and foreign keys: ['contenttype'] -> content_type_table.['contenttype'].\n",
            "\n",
            "Table 'content_type_table' has columns: contenttype (TEXT), views (INTEGER), watchtimehours (DOUBLE PRECISION), averageviewduration (TEXT), and foreign keys: .\n",
            "\n",
            "Table 'device_type_chart' has columns: date (TEXT), devicetype (TEXT), views (INTEGER), and foreign keys: ['devicetype'] -> device_type_table.['devicetype'].\n",
            "\n",
            "Table 'device_type_table' has columns: devicetype (TEXT), views (INTEGER), watchtimehours (DOUBLE PRECISION), averageviewduration (TEXT), and foreign keys: .\n",
            "\n",
            "Table 'geography_chart' has columns: date (TEXT), geography (TEXT), views (INTEGER), and foreign keys: ['geography'] -> geography_table.['geography'].\n",
            "\n",
            "Table 'geography_table' has columns: geography (TEXT), views (INTEGER), watchtimehours (DOUBLE PRECISION), averageviewduration (TEXT), and foreign keys: .\n",
            "\n",
            "Table 'new_and_returning_viewers_chart' has columns: date (TEXT), newandreturningviewers (TEXT), views (INTEGER), and foreign keys: ['newandreturningviewers'] -> new_and_returning_viewers_table.['newandreturningviewers'].\n",
            "\n",
            "Table 'new_and_returning_viewers_table' has columns: newandreturningviewers (TEXT), views (INTEGER), watchtimehours (DOUBLE PRECISION), averageviewduration (TEXT), and foreign keys: .\n",
            "\n",
            "Table 'operating_system_chart' has columns: date (TEXT), operatingsystem (TEXT), views (INTEGER), and foreign keys: ['operatingsystem'] -> operating_system_table.['operatingsystem'].\n",
            "\n",
            "Table 'operating_system_table' has columns: operatingsystem (TEXT), views (INTEGER), watchtimehours (DOUBLE PRECISION), averageviewduration (TEXT), and foreign keys: .\n",
            "\n",
            "Table 'sharing_service_chart' has columns: date (TEXT), sharingservice (TEXT), shares (INTEGER), and foreign keys: ['sharingservice'] -> sharing_service_table.['sharingservice'].\n",
            "\n",
            "Table 'sharing_service_table' has columns: sharingservice (TEXT), shares (INTEGER), and foreign keys: .\n",
            "\n",
            "Table 'subscription_source_chart' has columns: date (TEXT), subscriptionsource (TEXT), subscribers (INTEGER), and foreign keys: ['subscriptionsource'] -> subscription_source_table.['subscriptionsource'].\n",
            "\n",
            "Table 'subscription_source_table' has columns: subscriptionsource (TEXT), subscribers (INTEGER), subscribersgained (INTEGER), subscriberslost (INTEGER), and foreign keys: .\n",
            "\n",
            "Table 'subscription_status_chart' has columns: date (TEXT), subscriptionstatus (TEXT), views (INTEGER), and foreign keys: ['subscriptionstatus'] -> subscription_status_table.['subscriptionstatus'].\n",
            "\n",
            "Table 'subscription_status_table' has columns: subscriptionstatus (TEXT), views (INTEGER), watchtimehours (DOUBLE PRECISION), averageviewduration (TEXT), and foreign keys: .\n",
            "\n",
            "Table 'traffic_source_chart' has columns: date (TEXT), trafficsource (TEXT), views (INTEGER), and foreign keys: ['trafficsource'] -> traffic_source_table.['trafficsource'].\n",
            "\n",
            "Table 'traffic_source_table' has columns: trafficsource (TEXT), views (DOUBLE PRECISION), watchtimehours (DOUBLE PRECISION), averageviewduration (TEXT), impressions (DOUBLE PRECISION), impressionsclickthroughrate (DOUBLE PRECISION), and foreign keys: .\n",
            "\n",
            "Table 'viewer_age_table' has columns: viewerage (TEXT), viewspercentage (DOUBLE PRECISION), averageviewduration (TEXT), averagepercentageviewed (DOUBLE PRECISION), watchtimehourspercentage (DOUBLE PRECISION), and foreign keys: .\n",
            "\n",
            "Table 'viewer_gender_table' has columns: viewergender (TEXT), viewspercentage (DOUBLE PRECISION), averageviewduration (TEXT), averagepercentageviewed (DOUBLE PRECISION), watchtimehourspercentage (DOUBLE PRECISION), and foreign keys: .\n",
            "\n",
            "Table 'viewership_by_age_table' has columns: date (TEXT), views (DOUBLE PRECISION), watchtimehours (DOUBLE PRECISION), averageviewduration (TEXT), and foreign keys: .\n",
            "> Table desc str: Table 'cities_chart' has columns: date (TEXT), cities (TEXT), cityname (TEXT), views (INTEGER), and foreign keys: ['cityname'] -> cities_table.['cityname'].\n",
            "\n",
            "Table 'cities_table' has columns: cities (TEXT), cityname (TEXT), geography (TEXT), geography1 (TEXT), views (INTEGER), watchtimehours (DOUBLE PRECISION), averageviewduration (TEXT), and foreign keys: .\n",
            "\n",
            "Table 'content_type_chart' has columns: date (TEXT), contenttype (TEXT), views (INTEGER), and foreign keys: ['contenttype'] -> content_type_table.['contenttype'].\n",
            "\n",
            "Table 'content_type_table' has columns: contenttype (TEXT), views (INTEGER), watchtimehours (DOUBLE PRECISION), averageviewduration (TEXT), and foreign keys: .\n",
            "\n",
            "Table 'device_type_chart' has columns: date (TEXT), devicetype (TEXT), views (INTEGER), and foreign keys: ['devicetype'] -> device_type_table.['devicetype'].\n",
            "\n",
            "Table 'device_type_table' has columns: devicetype (TEXT), views (INTEGER), watchtimehours (DOUBLE PRECISION), averageviewduration (TEXT), and foreign keys: .\n",
            "\n",
            "Table 'geography_chart' has columns: date (TEXT), geography (TEXT), views (INTEGER), and foreign keys: ['geography'] -> geography_table.['geography'].\n",
            "\n",
            "Table 'geography_table' has columns: geography (TEXT), views (INTEGER), watchtimehours (DOUBLE PRECISION), averageviewduration (TEXT), and foreign keys: .\n",
            "\n",
            "Table 'new_and_returning_viewers_chart' has columns: date (TEXT), newandreturningviewers (TEXT), views (INTEGER), and foreign keys: ['newandreturningviewers'] -> new_and_returning_viewers_table.['newandreturningviewers'].\n",
            "\n",
            "Table 'new_and_returning_viewers_table' has columns: newandreturningviewers (TEXT), views (INTEGER), watchtimehours (DOUBLE PRECISION), averageviewduration (TEXT), and foreign keys: .\n",
            "\n",
            "Table 'operating_system_chart' has columns: date (TEXT), operatingsystem (TEXT), views (INTEGER), and foreign keys: ['operatingsystem'] -> operating_system_table.['operatingsystem'].\n",
            "\n",
            "Table 'operating_system_table' has columns: operatingsystem (TEXT), views (INTEGER), watchtimehours (DOUBLE PRECISION), averageviewduration (TEXT), and foreign keys: .\n",
            "\n",
            "Table 'sharing_service_chart' has columns: date (TEXT), sharingservice (TEXT), shares (INTEGER), and foreign keys: ['sharingservice'] -> sharing_service_table.['sharingservice'].\n",
            "\n",
            "Table 'sharing_service_table' has columns: sharingservice (TEXT), shares (INTEGER), and foreign keys: .\n",
            "\n",
            "Table 'subscription_source_chart' has columns: date (TEXT), subscriptionsource (TEXT), subscribers (INTEGER), and foreign keys: ['subscriptionsource'] -> subscription_source_table.['subscriptionsource'].\n",
            "\n",
            "Table 'subscription_source_table' has columns: subscriptionsource (TEXT), subscribers (INTEGER), subscribersgained (INTEGER), subscriberslost (INTEGER), and foreign keys: .\n",
            "\n",
            "Table 'subscription_status_chart' has columns: date (TEXT), subscriptionstatus (TEXT), views (INTEGER), and foreign keys: ['subscriptionstatus'] -> subscription_status_table.['subscriptionstatus'].\n",
            "\n",
            "Table 'subscription_status_table' has columns: subscriptionstatus (TEXT), views (INTEGER), watchtimehours (DOUBLE PRECISION), averageviewduration (TEXT), and foreign keys: .\n",
            "\n",
            "Table 'traffic_source_chart' has columns: date (TEXT), trafficsource (TEXT), views (INTEGER), and foreign keys: ['trafficsource'] -> traffic_source_table.['trafficsource'].\n",
            "\n",
            "Table 'traffic_source_table' has columns: trafficsource (TEXT), views (DOUBLE PRECISION), watchtimehours (DOUBLE PRECISION), averageviewduration (TEXT), impressions (DOUBLE PRECISION), impressionsclickthroughrate (DOUBLE PRECISION), and foreign keys: .\n",
            "\n",
            "Table 'viewer_age_table' has columns: viewerage (TEXT), viewspercentage (DOUBLE PRECISION), averageviewduration (TEXT), averagepercentageviewed (DOUBLE PRECISION), watchtimehourspercentage (DOUBLE PRECISION), and foreign keys: .\n",
            "\n",
            "Table 'viewer_gender_table' has columns: viewergender (TEXT), viewspercentage (DOUBLE PRECISION), averageviewduration (TEXT), averagepercentageviewed (DOUBLE PRECISION), watchtimehourspercentage (DOUBLE PRECISION), and foreign keys: .\n",
            "\n",
            "Table 'viewership_by_age_table' has columns: date (TEXT), views (DOUBLE PRECISION), watchtimehours (DOUBLE PRECISION), averageviewduration (TEXT), and foreign keys: .\n",
            "INFO:httpx:HTTP Request: POST https://api.openai.com/v1/chat/completions \"HTTP/1.1 200 OK\"\n",
            "HTTP Request: POST https://api.openai.com/v1/chat/completions \"HTTP/1.1 200 OK\"\n",
            "INFO:httpx:HTTP Request: POST https://api.openai.com/v1/chat/completions \"HTTP/1.1 200 OK\"\n",
            "HTTP Request: POST https://api.openai.com/v1/chat/completions \"HTTP/1.1 200 OK\"\n"
          ]
        }
      ],
      "source": [
        "# Defining the query string to ask about the highest view for Addis Ababa\n",
        "query_str = \"when was the highest view in Addis Ababa?\"\n",
        "query_str1 = \"which city has the highest view?\"\n",
        "query_str2 = \"How long was the video watched in the city that has the first non-zero view?\"\n",
        "\n",
        "# Executing the query using the NLSQLTableQueryEngine\n",
        "response = query_engine.query(query_str)\n",
        "response1 = query_engine.query(query_str1)\n",
        "response2 = query_engine.query(query_str2)"
      ]
    },
    {
      "cell_type": "markdown",
      "metadata": {
        "id": "AdSIrrC5a4nC"
      },
      "source": [
        "## Printing response"
      ]
    },
    {
      "cell_type": "code",
      "execution_count": null,
      "metadata": {
        "id": "PB7snPhIa4nC",
        "outputId": "d1301680-8b08-4896-bf58-0087980e57dd"
      },
      "outputs": [
        {
          "name": "stdout",
          "output_type": "stream",
          "text": [
            "The highest view in Addis Ababa was recorded on November 27, 2023, with a total of 180 views.\n",
            "Addis Ababa has the highest view count among all cities, with a total of 2514 views.\n",
            "It appears there was an error in the SQL query provided. Please double-check the syntax and try again.\n"
          ]
        }
      ],
      "source": [
        "# Printing response\n",
        "print(response.response)\n",
        "print(response1.response)\n",
        "print(response2.response)"
      ]
    },
    {
      "cell_type": "markdown",
      "metadata": {
        "id": "wW4-DDJLa4nC"
      },
      "source": [
        "## Processed SQL query"
      ]
    },
    {
      "cell_type": "code",
      "execution_count": null,
      "metadata": {
        "id": "Jl89moSha4nC",
        "outputId": "a26fa98a-8193-41c0-99f4-a9424ef6c653"
      },
      "outputs": [
        {
          "name": "stdout",
          "output_type": "stream",
          "text": [
            "SELECT date, views\n",
            "FROM cities_chart\n",
            "WHERE cityname = 'Addis Ababa'\n",
            "ORDER BY views DESC\n",
            "LIMIT 1;\n",
            "\n",
            "SELECT cityname, SUM(views) AS total_views\n",
            "FROM cities_chart\n",
            "GROUP BY cityname\n",
            "ORDER BY total_views DESC\n",
            "LIMIT 1;\n",
            "\n",
            "SELECT cityname, watchtimehours\n",
            "FROM cities_chart\n",
            "WHERE views > 0\n",
            "ORDER BY date\n",
            "LIMIT 1;\n"
          ]
        }
      ],
      "source": [
        "# Printing processed SQL query\n",
        "print(response.metadata['sql_query'])\n",
        "print()\n",
        "print(response1.metadata['sql_query'])\n",
        "print()\n",
        "print(response2.metadata['sql_query'])"
      ]
    }
  ],
  "metadata": {
    "kernelspec": {
      "display_name": "myenv",
      "language": "python",
      "name": "python3"
    },
    "language_info": {
      "codemirror_mode": {
        "name": "ipython",
        "version": 3
      },
      "file_extension": ".py",
      "mimetype": "text/x-python",
      "name": "python",
      "nbconvert_exporter": "python",
      "pygments_lexer": "ipython3",
      "version": "3.10.12"
    },
    "colab": {
      "provenance": []
    }
  },
  "nbformat": 4,
  "nbformat_minor": 0
}