{
 "cells": [
  {
   "cell_type": "code",
   "execution_count": 1,
   "metadata": {},
   "outputs": [],
   "source": [
    "# Import the logging module, which is used for tracking events that happen when code runs.\n",
    "# Import the sys module, which provides access to some variables used or maintained by the Python interpreter.\n",
    "import logging\n",
    "import sys\n",
    "\n",
    "# Configure the logging module to output log messages to stdout (standard output, usually the terminal).\n",
    "# The level parameter sets the threshold for what messages will be logged. INFO means that all messages of level INFO and above will be logged.\n",
    "# force=True ensures that the configuration is applied even if there are other handlers already configured.\n",
    "logging.basicConfig(stream=sys.stdout, level=logging.INFO, force=True)\n",
    "\n",
    "# Get the root logger and add a handler to it. This handler will also output log messages to stdout.\n",
    "# This is done to ensure that log messages are displayed in the environment where the script is running.\n",
    "logging.getLogger().addHandler(logging.StreamHandler(stream=sys.stdout))\n",
    "\n",
    "# Import the Markdown class from the IPython.display module, which is used to display Markdown formatted text in Jupyter notebooks.\n",
    "from IPython.display import Markdown, display"
   ]
  },
  {
   "cell_type": "markdown",
   "metadata": {},
   "source": [
    "## Establish connection with PostgreSQL database"
   ]
  },
  {
   "cell_type": "code",
   "execution_count": 3,
   "metadata": {},
   "outputs": [
    {
     "name": "stdout",
     "output_type": "stream",
     "text": [
      "(datetime.date(2020, 6, 28), '0x164b85cef5ab402d:0x8467b6b037a24d49', 'Addis Ababa', 0)\n",
      "(datetime.date(2020, 6, 29), '0x164b85cef5ab402d:0x8467b6b037a24d49', 'Addis Ababa', 0)\n",
      "(datetime.date(2020, 6, 30), '0x164b85cef5ab402d:0x8467b6b037a24d49', 'Addis Ababa', 0)\n"
     ]
    }
   ],
   "source": [
    "# Import the create_engine and text functions from the sqlalchemy module.\n",
    "# create_engine is used to create a connection to the database.\n",
    "# text is used to create SQL expressions.\n",
    "from sqlalchemy import create_engine, text\n",
    "\n",
    "# Define the database credentials and connection details.\n",
    "db_user = \"postgres\"\n",
    "db_password = \"postgres\"\n",
    "db_host = \"localhost\"\n",
    "db_port = \"5432\"\n",
    "db_name = \"youtube_data\"\n",
    "\n",
    "# Construct the connection string using the defined credentials and connection details.\n",
    "# The format is specific to PostgreSQL databases.\n",
    "connection_string = f\"postgresql://{db_user}:{db_password}@{db_host}:{db_port}/{db_name}\"\n",
    "\n",
    "# Create an engine instance using the connection string.\n",
    "# The engine is the starting point for any SQLAlchemy application.\n",
    "# It's \"home base\" for the actual database and its DBAPI, delivered to the SQLAlchemy application through a connection pool and a Dialect.\n",
    "engine = create_engine(connection_string)\n",
    "\n",
    "# Test the connection to the database by executing a raw SQL query.\n",
    "# This is done within a context manager to ensure that the connection is properly closed after use.\n",
    "with engine.connect() as connection:\n",
    "    # Execute a SQL query to select the first 3 rows from the 'cities_chart' table.\n",
    "    # The text function is used to create a SQL expression from the provided string.\n",
    "    result = connection.execute(text(\"select * from cities_chart limit 3\"))\n",
    "    \n",
    "    # Iterate over the result set, printing each row.\n",
    "    for row in result:\n",
    "        print(row)"
   ]
  },
  {
   "cell_type": "code",
   "execution_count": null,
   "metadata": {},
   "outputs": [],
   "source": [
    "## Description of tables"
   ]
  },
  {
   "cell_type": "code",
   "execution_count": 4,
   "metadata": {},
   "outputs": [],
   "source": [
    "# Descriging each table for accurate SQL\n",
    "table_details = {\n",
    "\"cities_chart\": \"\",\n",
    "\"cities_table\": \"\",\n",
    "\"content_type_chart\": \"\",\n",
    "\"content_type_table \": \"\",\n",
    "\"device_type_chart \": \"\",\n",
    "\"device_type_table \": \"\",\n",
    "\"geography_chart\": \"\",\n",
    "\"geography_table\": \"\",\n",
    "\"new_and_returning_viewers_chart\": \"\",\n",
    "\"new_and_returning_viewers_table\": \"\",\n",
    "\"operating_system_chart\": \"\",\n",
    "\"operating_system_table\": \"\",\n",
    "\"sharing_service_chart\": \"\",\n",
    "\"sharing_service_table\": \"\",\n",
    "\"subscription_source_chart\": \"\",\n",
    "\"subscription_source_table\": \"\",\n",
    "\"subscription_status_chart\": \"\",\n",
    "\"subscription_status_table\": \"\", \n",
    "\"subtitles_and_cc_chart\": \"\",\n",
    "\"subtitles_and_cc_table\": \"\",\n",
    "\"traffic_source_chart\": \"\",\n",
    "\"traffic_source_table\": \"\",\n",
    "\"viewer_age_table\": \"\",\n",
    "\"viewer_gender_table\": \"\", \n",
    "\"viewership_by_age_table\": \"\",\n",
    "\"viewership_by_date_table\": \"\"\n",
    "}"
   ]
  },
  {
   "cell_type": "code",
   "execution_count": null,
   "metadata": {},
   "outputs": [],
   "source": [
    "## Listing all tables"
   ]
  },
  {
   "cell_type": "code",
   "execution_count": 8,
   "metadata": {},
   "outputs": [
    {
     "data": {
      "text/plain": [
       "['traffic_source_table',\n",
       " 'viewership_by_date_table',\n",
       " 'traffic_source_chart',\n",
       " 'content_type_chart',\n",
       " 'cities_chart',\n",
       " 'device_type_table',\n",
       " 'viewership_by_age_table',\n",
       " 'device_type_chart',\n",
       " 'new_and_returning_viewers_table',\n",
       " 'subscription_status_table',\n",
       " 'sharing_service_chart',\n",
       " 'cities_chart_data',\n",
       " 'operating_system_table',\n",
       " 'new_and_returning_viewers_chart',\n",
       " 'subscription_status_chart',\n",
       " 'subtitles_and_cc_table',\n",
       " 'geography_table',\n",
       " 'viewer_gender_table',\n",
       " 'sharing_service_table',\n",
       " 'cities_table',\n",
       " 'geography_chart',\n",
       " 'operating_system_chart',\n",
       " 'subtitles_and_cc_chart',\n",
       " 'subscription_source_chart',\n",
       " 'viewer_age_table',\n",
       " 'subscription_source_table',\n",
       " 'content_type_table']"
      ]
     },
     "execution_count": 8,
     "metadata": {},
     "output_type": "execute_result"
    }
   ],
   "source": [
    "# Importing the SQLDatabase class from the llama_index.core module\n",
    "from llama_index.core import SQLDatabase\n",
    "\n",
    "# Creating an instance of SQLDatabase with the specified engine and sample_rows_in_table_info parameter set to 2\n",
    "# Note: The include_tables parameter is commented out, so only the tables specified in the tables list will be included\n",
    "sql_database = SQLDatabase(engine, sample_rows_in_table_info=2)\n",
    "\n",
    "# Listing all tables in the SQL database\n",
    "list(sql_database._all_tables)"
   ]
  },
  {
   "cell_type": "code",
   "execution_count": null,
   "metadata": {},
   "outputs": [],
   "source": [
    "## Displaying metadata - each column in each table "
   ]
  },
  {
   "cell_type": "code",
   "execution_count": 10,
   "metadata": {},
   "outputs": [
    {
     "name": "stdout",
     "output_type": "stream",
     "text": [
      "Table Name: cities_table\n",
      "Columns: ['cities', 'cityname', 'geography', 'geography1', 'views', 'watchtimehours', 'averageviewduration']\n",
      "Table Name: cities_chart\n",
      "Columns: ['date', 'cities', 'cityname', 'views']\n",
      "Table Name: viewership_by_age_table\n",
      "Columns: ['date', 'views', 'watchtimehours', 'averageviewduration']\n",
      "Table Name: content_type_table\n",
      "Columns: ['Content type', 'Views', 'Watch time (hours)', 'Average view duration']\n",
      "Table Name: content_type_chart\n",
      "Columns: ['Date', 'Content type', 'Views']\n",
      "Table Name: device_type_table\n",
      "Columns: ['Device type', 'Views', 'Watch time (hours)', 'Average view duration']\n",
      "Table Name: device_type_chart\n",
      "Columns: ['Date', 'Device type', 'Views']\n",
      "Table Name: geography_table\n",
      "Columns: ['Geography', 'Views', 'Watch time (hours)', 'Average view duration']\n",
      "Table Name: geography_chart\n",
      "Columns: ['Date', 'Geography', 'Views']\n",
      "Table Name: new_and_returning_viewers_table\n",
      "Columns: ['New and returning viewers', 'Views', 'Watch time (hours)', 'Average view duration']\n",
      "Table Name: new_and_returning_viewers_chart\n",
      "Columns: ['Date', 'New and returning viewers', 'Views']\n",
      "Table Name: viewership_by_date_table\n",
      "Columns: ['Date', 'Views', 'Watch time (hours)', 'Average view duration']\n",
      "Table Name: viewer_gender_table\n",
      "Columns: ['Viewer gender', 'Views (%)', 'Average view duration', 'Average percentage viewed (%)', 'Watch time (hours) (%)']\n",
      "Table Name: viewer_age_table\n",
      "Columns: ['Viewer age', 'Views (%)', 'Average view duration', 'Average percentage viewed (%)', 'Watch time (hours) (%)']\n",
      "Table Name: traffic_source_table\n",
      "Columns: ['Traffic source', 'Views', 'Watch time (hours)', 'Average view duration', 'Impressions', 'Impressions click-through rate (%)']\n",
      "Table Name: traffic_source_chart\n",
      "Columns: ['Date', 'Traffic source', 'Views']\n",
      "Table Name: subtitles_and_cc_table\n",
      "Columns: ['Subtitles and CC', 'Views', 'Watch time (hours)', 'Average view duration']\n",
      "Table Name: subtitles_and_cc_chart\n",
      "Columns: ['Date', 'Subtitles and CC', 'Views']\n",
      "Table Name: subscription_status_table\n",
      "Columns: ['Subscription status', 'Views', 'Watch time (hours)', 'Average view duration']\n",
      "Table Name: subscription_status_chart\n",
      "Columns: ['Date', 'Subscription status', 'Views']\n",
      "Table Name: subscription_source_table\n",
      "Columns: ['Subscription source', 'Subscribers', 'Subscribers gained', 'Subscribers lost']\n",
      "Table Name: subscription_source_chart\n",
      "Columns: ['Date', 'Subscription source', 'Subscribers']\n",
      "Table Name: sharing_service_table\n",
      "Columns: ['Sharing service', 'Shares']\n",
      "Table Name: sharing_service_chart\n",
      "Columns: ['Date', 'Sharing service', 'Shares']\n",
      "Table Name: operating_system_table\n",
      "Columns: ['Operating system', 'Views', 'Watch time (hours)', 'Average view duration']\n",
      "Table Name: operating_system_chart\n",
      "Columns: ['Date', 'Operating system', 'Views']\n",
      "Table Name: cities_chart_data\n",
      "Columns: ['date', 'cities', 'cityname', 'views']\n"
     ]
    }
   ],
   "source": [
    "# Importing necessary modules from SQLAlchemy\n",
    "from sqlalchemy import MetaData\n",
    "\n",
    "# Creating an engine instance for connecting to the PostgreSQL database\n",
    "# Replace the placeholders with actual database credentials\n",
    "engine = create_engine(f\"postgresql://{db_user}:{db_password}@{db_host}:{db_port}/{db_name}\")\n",
    "\n",
    "# Creating a MetaData instance\n",
    "metadata = MetaData()\n",
    "\n",
    "# Reflecting the database schema to load table metadata\n",
    "metadata.reflect(bind=engine)\n",
    "\n",
    "# Iterating through each table in the database\n",
    "for table_name, table in metadata.tables.items():\n",
    "    # Printing the name of the current table\n",
    "    print(f\"Table Name: {table_name}\")\n",
    "    \n",
    "    # Printing the names of the columns in the current table\n",
    "    print(f\"Columns: {table.columns.keys()}\")"
   ]
  },
  {
   "cell_type": "code",
   "execution_count": null,
   "metadata": {},
   "outputs": [],
   "source": [
    "## Assign API key to OpenAI module"
   ]
  },
  {
   "cell_type": "code",
   "execution_count": 18,
   "metadata": {},
   "outputs": [],
   "source": [
    "import os\n",
    "from dotenv import load_dotenv\n",
    "import openai\n",
    "\n",
    "# Load environment variables from.env file\n",
    "load_dotenv()\n",
    "\n",
    "# Access OPENAI_API_KEY using os.environ\n",
    "OPENAI_API_KEY = os.environ.get(\"OPENAI_API_KEY\")\n",
    "\n",
    "# Set the OPENAI_API_KEY environment variable\n",
    "os.environ[\"OPENAI_API_KEY\"] = OPENAI_API_KEY\n",
    "\n",
    "# Assign the API key to the openai module\n",
    "openai.api_key = os.environ[\"OPENAI_API_KEY\"]\n"
   ]
  },
  {
   "cell_type": "markdown",
   "metadata": {},
   "source": [
    "##  Working with the OpenAI language model, text splitting, embedding, and prompt handling."
   ]
  },
  {
   "cell_type": "code",
   "execution_count": 24,
   "metadata": {},
   "outputs": [
    {
     "name": "stderr",
     "output_type": "stream",
     "text": [
      "/tmp/ipykernel_6679/3338376055.py:22: DeprecationWarning: Call to deprecated class method from_defaults. (ServiceContext is deprecated, please use `llama_index.settings.Settings` instead.) -- Deprecated since version 0.10.0.\n",
      "  service_context = ServiceContext.from_defaults(\n"
     ]
    }
   ],
   "source": [
    "# Import necessary modules and classes\n",
    "from llama_index.core import ServiceContext, PromptHelper\n",
    "from llama_index.embeddings.openai import OpenAIEmbedding\n",
    "from llama_index.llms.openai import OpenAI\n",
    "from llama_index.core.text_splitter import TokenTextSplitter\n",
    "from llama_index.core.node_parser import SimpleNodeParser\n",
    "\n",
    "# Instantiate the OpenAI language model with specific parameters\n",
    "language_model = OpenAI(model=\"gpt-3.5-turbo\", temperature=0.1)\n",
    "\n",
    "# Initialize the OpenAIEmbedding model\n",
    "embedding_model = OpenAIEmbedding()\n",
    "\n",
    "# Instantiate a TokenTextSplitter for splitting text into chunks\n",
    "text_splitter_instance = TokenTextSplitter(chunk_size=1024, chunk_overlap=20)\n",
    "\n",
    "# Initialize a SimpleNodeParser instance\n",
    "# Note: Modify this line if `text_splitter` is not a valid argument for SimpleNodeParser\n",
    "node_parser_instance = SimpleNodeParser()\n",
    "\n",
    "# Instantiate a PromptHelper with specified parameters\n",
    "prompt_helper_instance = PromptHelper(\n",
    "    context_window=4096,\n",
    "    num_output=256,\n",
    "    chunk_overlap_ratio=0.1,\n",
    "    chunk_size_limit=None,\n",
    ")\n",
    "\n",
    "# Instantiate a ServiceContext with the specified components\n",
    "service_context_instance = ServiceContext.from_defaults(\n",
    "    llm=language_model,\n",
    "    embed_model=embedding_model,\n",
    "    node_parser=node_parser_instance,\n",
    "    prompt_helper=prompt_helper_instance,\n",
    ")"
   ]
  },
  {
   "cell_type": "code",
   "execution_count": null,
   "metadata": {},
   "outputs": [],
   "source": [
    "## Creating an instance of NLSQLTableQueryEngine"
   ]
  },
  {
   "cell_type": "code",
   "execution_count": 27,
   "metadata": {},
   "outputs": [],
   "source": [
    "# Importing the NLSQLTableQueryEngine from the llama_index.core.indices.struct_store.sql_query module\n",
    "from llama_index.core.indices.struct_store.sql_query import NLSQLTableQueryEngine\n",
    "\n",
    "# Creating an instance of NLSQLTableQueryEngine\n",
    "# This engine is configured with the specified SQL database and service context\n",
    "query_engine = NLSQLTableQueryEngine(\n",
    "    sql_database=sql_database,\n",
    "    service_context=service_context_instance\n",
    ")"
   ]
  },
  {
   "cell_type": "code",
   "execution_count": null,
   "metadata": {},
   "outputs": [],
   "source": [
    "## Assigning a natural language query to a variable and execution"
   ]
  },
  {
   "cell_type": "code",
   "execution_count": 32,
   "metadata": {},
   "outputs": [
    {
     "name": "stdout",
     "output_type": "stream",
     "text": [
      "INFO:llama_index.core.indices.struct_store.sql_retriever:> Table desc str: Table 'cities_chart' has columns: date (TEXT), cities (TEXT), cityname (TEXT), views (INTEGER), and foreign keys: ['cityname'] -> cities_table.['cityname'].\n",
      "\n",
      "Table 'cities_chart_data' has columns: date (DATE), cities (TEXT), cityname (TEXT), views (INTEGER), and foreign keys: .\n",
      "\n",
      "Table 'cities_table' has columns: cities (TEXT), cityname (TEXT), geography (TEXT), geography1 (TEXT), views (INTEGER), watchtimehours (DOUBLE PRECISION), averageviewduration (TEXT), and foreign keys: .\n",
      "\n",
      "Table 'content_type_chart' has columns: Date (TEXT), Content type (TEXT), Views (TEXT), and foreign keys: .\n",
      "\n",
      "Table 'content_type_table' has columns: Content type (TEXT), Views (TEXT), Watch time (hours) (TEXT), Average view duration (TEXT), and foreign keys: .\n",
      "\n",
      "Table 'device_type_chart' has columns: Date (TEXT), Device type (TEXT), Views (TEXT), and foreign keys: .\n",
      "\n",
      "Table 'device_type_table' has columns: Device type (TEXT), Views (TEXT), Watch time (hours) (TEXT), Average view duration (TEXT), and foreign keys: .\n",
      "\n",
      "Table 'geography_chart' has columns: Date (TEXT), Geography (TEXT), Views (TEXT), and foreign keys: .\n",
      "\n",
      "Table 'geography_table' has columns: Geography (TEXT), Views (TEXT), Watch time (hours) (TEXT), Average view duration (TEXT), and foreign keys: .\n",
      "\n",
      "Table 'new_and_returning_viewers_chart' has columns: Date (TEXT), New and returning viewers (TEXT), Views (TEXT), and foreign keys: .\n",
      "\n",
      "Table 'new_and_returning_viewers_table' has columns: New and returning viewers (TEXT), Views (TEXT), Watch time (hours) (TEXT), Average view duration (TEXT), and foreign keys: .\n",
      "\n",
      "Table 'operating_system_chart' has columns: Date (TEXT), Operating system (TEXT), Views (TEXT), and foreign keys: .\n",
      "\n",
      "Table 'operating_system_table' has columns: Operating system (TEXT), Views (TEXT), Watch time (hours) (TEXT), Average view duration (TEXT), and foreign keys: .\n",
      "\n",
      "Table 'sharing_service_chart' has columns: Date (TEXT), Sharing service (TEXT), Shares (TEXT), and foreign keys: .\n",
      "\n",
      "Table 'sharing_service_table' has columns: Sharing service (TEXT), Shares (TEXT), and foreign keys: .\n",
      "\n",
      "Table 'subscription_source_chart' has columns: Date (TEXT), Subscription source (TEXT), Subscribers (TEXT), and foreign keys: .\n",
      "\n",
      "Table 'subscription_source_table' has columns: Subscription source (TEXT), Subscribers (TEXT), Subscribers gained (TEXT), Subscribers lost (TEXT), and foreign keys: .\n",
      "\n",
      "Table 'subscription_status_chart' has columns: Date (TEXT), Subscription status (TEXT), Views (TEXT), and foreign keys: .\n",
      "\n",
      "Table 'subscription_status_table' has columns: Subscription status (TEXT), Views (TEXT), Watch time (hours) (TEXT), Average view duration (TEXT), and foreign keys: .\n",
      "\n",
      "Table 'subtitles_and_cc_chart' has columns: Date (TEXT), Subtitles and CC (TEXT), Views (TEXT), and foreign keys: .\n",
      "\n",
      "Table 'subtitles_and_cc_table' has columns: Subtitles and CC (TEXT), Views (TEXT), Watch time (hours) (TEXT), Average view duration (TEXT), and foreign keys: .\n",
      "\n",
      "Table 'traffic_source_chart' has columns: Date (TEXT), Traffic source (TEXT), Views (TEXT), and foreign keys: .\n",
      "\n",
      "Table 'traffic_source_table' has columns: Traffic source (TEXT), Views (TEXT), Watch time (hours) (TEXT), Average view duration (TEXT), Impressions (TEXT), Impressions click-through rate (%) (TEXT), and foreign keys: .\n",
      "\n",
      "Table 'viewer_age_table' has columns: Viewer age (TEXT), Views (%) (TEXT), Average view duration (TEXT), Average percentage viewed (%) (TEXT), Watch time (hours) (%) (TEXT), and foreign keys: .\n",
      "\n",
      "Table 'viewer_gender_table' has columns: Viewer gender (TEXT), Views (%) (TEXT), Average view duration (TEXT), Average percentage viewed (%) (TEXT), Watch time (hours) (%) (TEXT), and foreign keys: .\n",
      "\n",
      "Table 'viewership_by_age_table' has columns: date (TEXT), views (DOUBLE PRECISION), watchtimehours (DOUBLE PRECISION), averageviewduration (TEXT), and foreign keys: .\n",
      "\n",
      "Table 'viewership_by_date_table' has columns: Date (TEXT), Views (TEXT), Watch time (hours) (TEXT), Average view duration (TEXT), and foreign keys: .\n",
      "> Table desc str: Table 'cities_chart' has columns: date (TEXT), cities (TEXT), cityname (TEXT), views (INTEGER), and foreign keys: ['cityname'] -> cities_table.['cityname'].\n",
      "\n",
      "Table 'cities_chart_data' has columns: date (DATE), cities (TEXT), cityname (TEXT), views (INTEGER), and foreign keys: .\n",
      "\n",
      "Table 'cities_table' has columns: cities (TEXT), cityname (TEXT), geography (TEXT), geography1 (TEXT), views (INTEGER), watchtimehours (DOUBLE PRECISION), averageviewduration (TEXT), and foreign keys: .\n",
      "\n",
      "Table 'content_type_chart' has columns: Date (TEXT), Content type (TEXT), Views (TEXT), and foreign keys: .\n",
      "\n",
      "Table 'content_type_table' has columns: Content type (TEXT), Views (TEXT), Watch time (hours) (TEXT), Average view duration (TEXT), and foreign keys: .\n",
      "\n",
      "Table 'device_type_chart' has columns: Date (TEXT), Device type (TEXT), Views (TEXT), and foreign keys: .\n",
      "\n",
      "Table 'device_type_table' has columns: Device type (TEXT), Views (TEXT), Watch time (hours) (TEXT), Average view duration (TEXT), and foreign keys: .\n",
      "\n",
      "Table 'geography_chart' has columns: Date (TEXT), Geography (TEXT), Views (TEXT), and foreign keys: .\n",
      "\n",
      "Table 'geography_table' has columns: Geography (TEXT), Views (TEXT), Watch time (hours) (TEXT), Average view duration (TEXT), and foreign keys: .\n",
      "\n",
      "Table 'new_and_returning_viewers_chart' has columns: Date (TEXT), New and returning viewers (TEXT), Views (TEXT), and foreign keys: .\n",
      "\n",
      "Table 'new_and_returning_viewers_table' has columns: New and returning viewers (TEXT), Views (TEXT), Watch time (hours) (TEXT), Average view duration (TEXT), and foreign keys: .\n",
      "\n",
      "Table 'operating_system_chart' has columns: Date (TEXT), Operating system (TEXT), Views (TEXT), and foreign keys: .\n",
      "\n",
      "Table 'operating_system_table' has columns: Operating system (TEXT), Views (TEXT), Watch time (hours) (TEXT), Average view duration (TEXT), and foreign keys: .\n",
      "\n",
      "Table 'sharing_service_chart' has columns: Date (TEXT), Sharing service (TEXT), Shares (TEXT), and foreign keys: .\n",
      "\n",
      "Table 'sharing_service_table' has columns: Sharing service (TEXT), Shares (TEXT), and foreign keys: .\n",
      "\n",
      "Table 'subscription_source_chart' has columns: Date (TEXT), Subscription source (TEXT), Subscribers (TEXT), and foreign keys: .\n",
      "\n",
      "Table 'subscription_source_table' has columns: Subscription source (TEXT), Subscribers (TEXT), Subscribers gained (TEXT), Subscribers lost (TEXT), and foreign keys: .\n",
      "\n",
      "Table 'subscription_status_chart' has columns: Date (TEXT), Subscription status (TEXT), Views (TEXT), and foreign keys: .\n",
      "\n",
      "Table 'subscription_status_table' has columns: Subscription status (TEXT), Views (TEXT), Watch time (hours) (TEXT), Average view duration (TEXT), and foreign keys: .\n",
      "\n",
      "Table 'subtitles_and_cc_chart' has columns: Date (TEXT), Subtitles and CC (TEXT), Views (TEXT), and foreign keys: .\n",
      "\n",
      "Table 'subtitles_and_cc_table' has columns: Subtitles and CC (TEXT), Views (TEXT), Watch time (hours) (TEXT), Average view duration (TEXT), and foreign keys: .\n",
      "\n",
      "Table 'traffic_source_chart' has columns: Date (TEXT), Traffic source (TEXT), Views (TEXT), and foreign keys: .\n",
      "\n",
      "Table 'traffic_source_table' has columns: Traffic source (TEXT), Views (TEXT), Watch time (hours) (TEXT), Average view duration (TEXT), Impressions (TEXT), Impressions click-through rate (%) (TEXT), and foreign keys: .\n",
      "\n",
      "Table 'viewer_age_table' has columns: Viewer age (TEXT), Views (%) (TEXT), Average view duration (TEXT), Average percentage viewed (%) (TEXT), Watch time (hours) (%) (TEXT), and foreign keys: .\n",
      "\n",
      "Table 'viewer_gender_table' has columns: Viewer gender (TEXT), Views (%) (TEXT), Average view duration (TEXT), Average percentage viewed (%) (TEXT), Watch time (hours) (%) (TEXT), and foreign keys: .\n",
      "\n",
      "Table 'viewership_by_age_table' has columns: date (TEXT), views (DOUBLE PRECISION), watchtimehours (DOUBLE PRECISION), averageviewduration (TEXT), and foreign keys: .\n",
      "\n",
      "Table 'viewership_by_date_table' has columns: Date (TEXT), Views (TEXT), Watch time (hours) (TEXT), Average view duration (TEXT), and foreign keys: .\n",
      "INFO:httpx:HTTP Request: POST https://api.openai.com/v1/chat/completions \"HTTP/1.1 200 OK\"\n",
      "HTTP Request: POST https://api.openai.com/v1/chat/completions \"HTTP/1.1 200 OK\"\n",
      "INFO:httpx:HTTP Request: POST https://api.openai.com/v1/chat/completions \"HTTP/1.1 200 OK\"\n",
      "HTTP Request: POST https://api.openai.com/v1/chat/completions \"HTTP/1.1 200 OK\"\n"
     ]
    }
   ],
   "source": [
    "# Defining the query string to ask about the highest view for Addis Ababa\n",
    "query_str = \"when was the highest view in Addis Ababa?\"\n",
    "\n",
    "# Executing the query using the NLSQLTableQueryEngine\n",
    "response = query_engine.query(query_str)"
   ]
  },
  {
   "cell_type": "code",
   "execution_count": null,
   "metadata": {},
   "outputs": [],
   "source": [
    "## Printing response"
   ]
  },
  {
   "cell_type": "code",
   "execution_count": 33,
   "metadata": {},
   "outputs": [
    {
     "name": "stdout",
     "output_type": "stream",
     "text": [
      "The highest view in Addis Ababa was on [date], with [number of views].\n"
     ]
    }
   ],
   "source": [
    "# Printing response\n",
    "print(response.response)"
   ]
  },
  {
   "cell_type": "code",
   "execution_count": null,
   "metadata": {},
   "outputs": [],
   "source": [
    "## Processed SQL query"
   ]
  },
  {
   "cell_type": "code",
   "execution_count": 34,
   "metadata": {},
   "outputs": [
    {
     "name": "stdout",
     "output_type": "stream",
     "text": [
      "SELECT date, views\n",
      "FROM cities_chart\n",
      "WHERE cityname = 'Addis Ababa'\n",
      "ORDER BY views DESC\n",
      "LIMIT 1;\n"
     ]
    }
   ],
   "source": [
    "# Printing processed SQL query\n",
    "print(response.metadata['sql_query'])"
   ]
  }
 ],
 "metadata": {
  "kernelspec": {
   "display_name": "myenv",
   "language": "python",
   "name": "python3"
  },
  "language_info": {
   "codemirror_mode": {
    "name": "ipython",
    "version": 3
   },
   "file_extension": ".py",
   "mimetype": "text/x-python",
   "name": "python",
   "nbconvert_exporter": "python",
   "pygments_lexer": "ipython3",
   "version": "3.10.12"
  }
 },
 "nbformat": 4,
 "nbformat_minor": 2
}
