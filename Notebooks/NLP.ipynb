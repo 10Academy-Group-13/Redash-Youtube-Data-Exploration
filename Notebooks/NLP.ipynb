{
 "cells": [
  {
   "cell_type": "code",
   "execution_count": 1,
   "metadata": {},
   "outputs": [],
   "source": [
    "# Import the logging module, which is used for tracking events that happen when code runs.\n",
    "# Import the sys module, which provides access to some variables used or maintained by the Python interpreter.\n",
    "import logging\n",
    "import sys\n",
    "\n",
    "# Configure the logging module to output log messages to stdout (standard output, usually the terminal).\n",
    "# The level parameter sets the threshold for what messages will be logged. INFO means that all messages of level INFO and above will be logged.\n",
    "# force=True ensures that the configuration is applied even if there are other handlers already configured.\n",
    "logging.basicConfig(stream=sys.stdout, level=logging.INFO, force=True)\n",
    "\n",
    "# Get the root logger and add a handler to it. This handler will also output log messages to stdout.\n",
    "# This is done to ensure that log messages are displayed in the environment where the script is running.\n",
    "logging.getLogger().addHandler(logging.StreamHandler(stream=sys.stdout))\n",
    "\n",
    "# Import the Markdown class from the IPython.display module, which is used to display Markdown formatted text in Jupyter notebooks.\n",
    "from IPython.display import Markdown, display"
   ]
  },
  {
   "cell_type": "markdown",
   "metadata": {},
   "source": [
    "## Establish connection with PostgreSQL database"
   ]
  },
  {
   "cell_type": "code",
   "execution_count": 3,
   "metadata": {},
   "outputs": [
    {
     "name": "stdout",
     "output_type": "stream",
     "text": [
      "(datetime.date(2020, 6, 28), '0x164b85cef5ab402d:0x8467b6b037a24d49', 'Addis Ababa', 0)\n",
      "(datetime.date(2020, 6, 29), '0x164b85cef5ab402d:0x8467b6b037a24d49', 'Addis Ababa', 0)\n",
      "(datetime.date(2020, 6, 30), '0x164b85cef5ab402d:0x8467b6b037a24d49', 'Addis Ababa', 0)\n"
     ]
    }
   ],
   "source": [
    "# Import the create_engine and text functions from the sqlalchemy module.\n",
    "# create_engine is used to create a connection to the database.\n",
    "# text is used to create SQL expressions.\n",
    "from sqlalchemy import create_engine, text\n",
    "\n",
    "# Define the database credentials and connection details.\n",
    "db_user = \"postgres\"\n",
    "db_password = \"postgres\"\n",
    "db_host = \"localhost\"\n",
    "db_port = \"5432\"\n",
    "db_name = \"youtube_data\"\n",
    "\n",
    "# Construct the connection string using the defined credentials and connection details.\n",
    "# The format is specific to PostgreSQL databases.\n",
    "connection_string = f\"postgresql://{db_user}:{db_password}@{db_host}:{db_port}/{db_name}\"\n",
    "\n",
    "# Create an engine instance using the connection string.\n",
    "# The engine is the starting point for any SQLAlchemy application.\n",
    "# It's \"home base\" for the actual database and its DBAPI, delivered to the SQLAlchemy application through a connection pool and a Dialect.\n",
    "engine = create_engine(connection_string)\n",
    "\n",
    "# Test the connection to the database by executing a raw SQL query.\n",
    "# This is done within a context manager to ensure that the connection is properly closed after use.\n",
    "with engine.connect() as connection:\n",
    "    # Execute a SQL query to select the first 3 rows from the 'cities_chart' table.\n",
    "    # The text function is used to create a SQL expression from the provided string.\n",
    "    result = connection.execute(text(\"select * from cities_chart limit 3\"))\n",
    "    \n",
    "    # Iterate over the result set, printing each row.\n",
    "    for row in result:\n",
    "        print(row)"
   ]
  },
  {
   "cell_type": "code",
   "execution_count": null,
   "metadata": {},
   "outputs": [],
   "source": [
    "## Description of tables"
   ]
  },
  {
   "cell_type": "code",
   "execution_count": 4,
   "metadata": {},
   "outputs": [],
   "source": [
    "# Descriging each table for accurate SQL\n",
    "table_details = {\n",
    "\"cities_chart\": \"\",\n",
    "\"cities_table\": \"\",\n",
    "\"content_type_chart\": \"\",\n",
    "\"content_type_table \": \"\",\n",
    "\"device_type_chart \": \"\",\n",
    "\"device_type_table \": \"\",\n",
    "\"geography_chart\": \"\",\n",
    "\"geography_table\": \"\",\n",
    "\"new_and_returning_viewers_chart\": \"\",\n",
    "\"new_and_returning_viewers_table\": \"\",\n",
    "\"operating_system_chart\": \"\",\n",
    "\"operating_system_table\": \"\",\n",
    "\"sharing_service_chart\": \"\",\n",
    "\"sharing_service_table\": \"\",\n",
    "\"subscription_source_chart\": \"\",\n",
    "\"subscription_source_table\": \"\",\n",
    "\"subscription_status_chart\": \"\",\n",
    "\"subscription_status_table\": \"\", \n",
    "\"subtitles_and_cc_chart\": \"\",\n",
    "\"subtitles_and_cc_table\": \"\",\n",
    "\"traffic_source_chart\": \"\",\n",
    "\"traffic_source_table\": \"\",\n",
    "\"viewer_age_table\": \"\",\n",
    "\"viewer_gender_table\": \"\", \n",
    "\"viewership_by_age_table\": \"\",\n",
    "\"viewership_by_date_table\": \"\"\n",
    "}"
   ]
  },
  {
   "cell_type": "code",
   "execution_count": null,
   "metadata": {},
   "outputs": [],
   "source": [
    "## Listing all tables"
   ]
  },
  {
   "cell_type": "code",
   "execution_count": 8,
   "metadata": {},
   "outputs": [
    {
     "data": {
      "text/plain": [
       "['traffic_source_table',\n",
       " 'viewership_by_date_table',\n",
       " 'traffic_source_chart',\n",
       " 'content_type_chart',\n",
       " 'cities_chart',\n",
       " 'device_type_table',\n",
       " 'viewership_by_age_table',\n",
       " 'device_type_chart',\n",
       " 'new_and_returning_viewers_table',\n",
       " 'subscription_status_table',\n",
       " 'sharing_service_chart',\n",
       " 'cities_chart_data',\n",
       " 'operating_system_table',\n",
       " 'new_and_returning_viewers_chart',\n",
       " 'subscription_status_chart',\n",
       " 'subtitles_and_cc_table',\n",
       " 'geography_table',\n",
       " 'viewer_gender_table',\n",
       " 'sharing_service_table',\n",
       " 'cities_table',\n",
       " 'geography_chart',\n",
       " 'operating_system_chart',\n",
       " 'subtitles_and_cc_chart',\n",
       " 'subscription_source_chart',\n",
       " 'viewer_age_table',\n",
       " 'subscription_source_table',\n",
       " 'content_type_table']"
      ]
     },
     "execution_count": 8,
     "metadata": {},
     "output_type": "execute_result"
    }
   ],
   "source": [
    "# Importing the SQLDatabase class from the llama_index.core module\n",
    "from llama_index.core import SQLDatabase\n",
    "\n",
    "# Creating an instance of SQLDatabase with the specified engine and sample_rows_in_table_info parameter set to 2\n",
    "# Note: The include_tables parameter is commented out, so only the tables specified in the tables list will be included\n",
    "sql_database = SQLDatabase(engine, sample_rows_in_table_info=2)\n",
    "\n",
    "# Listing all tables in the SQL database\n",
    "list(sql_database._all_tables)"
   ]
  },
  {
   "cell_type": "code",
   "execution_count": null,
   "metadata": {},
   "outputs": [],
   "source": [
    "## Displaying metadata - each column in each table "
   ]
  },
  {
   "cell_type": "code",
   "execution_count": 9,
   "metadata": {},
   "outputs": [
    {
     "name": "stdout",
     "output_type": "stream",
     "text": [
      "Table Name: cities_table\n",
      "Columns: ['cities', 'cityname', 'geography', 'geography1', 'views', 'watchtimehours', 'averageviewduration']\n",
      "Table Name: cities_chart\n",
      "Columns: ['date', 'cities', 'cityname', 'views']\n",
      "Table Name: viewership_by_age_table\n",
      "Columns: ['date', 'views', 'watchtimehours', 'averageviewduration']\n",
      "Table Name: content_type_table\n",
      "Columns: ['Content type', 'Views', 'Watch time (hours)', 'Average view duration']\n",
      "Table Name: content_type_chart\n",
      "Columns: ['Date', 'Content type', 'Views']\n",
      "Table Name: device_type_table\n",
      "Columns: ['Device type', 'Views', 'Watch time (hours)', 'Average view duration']\n",
      "Table Name: device_type_chart\n",
      "Columns: ['Date', 'Device type', 'Views']\n",
      "Table Name: geography_table\n",
      "Columns: ['Geography', 'Views', 'Watch time (hours)', 'Average view duration']\n",
      "Table Name: geography_chart\n",
      "Columns: ['Date', 'Geography', 'Views']\n",
      "Table Name: new_and_returning_viewers_table\n",
      "Columns: ['New and returning viewers', 'Views', 'Watch time (hours)', 'Average view duration']\n",
      "Table Name: new_and_returning_viewers_chart\n",
      "Columns: ['Date', 'New and returning viewers', 'Views']\n",
      "Table Name: viewership_by_date_table\n",
      "Columns: ['Date', 'Views', 'Watch time (hours)', 'Average view duration']\n",
      "Table Name: viewer_gender_table\n",
      "Columns: ['Viewer gender', 'Views (%)', 'Average view duration', 'Average percentage viewed (%)', 'Watch time (hours) (%)']\n",
      "Table Name: viewer_age_table\n",
      "Columns: ['Viewer age', 'Views (%)', 'Average view duration', 'Average percentage viewed (%)', 'Watch time (hours) (%)']\n",
      "Table Name: traffic_source_table\n",
      "Columns: ['Traffic source', 'Views', 'Watch time (hours)', 'Average view duration', 'Impressions', 'Impressions click-through rate (%)']\n",
      "Table Name: traffic_source_chart\n",
      "Columns: ['Date', 'Traffic source', 'Views']\n",
      "Table Name: subtitles_and_cc_table\n",
      "Columns: ['Subtitles and CC', 'Views', 'Watch time (hours)', 'Average view duration']\n",
      "Table Name: subtitles_and_cc_chart\n",
      "Columns: ['Date', 'Subtitles and CC', 'Views']\n",
      "Table Name: subscription_status_table\n",
      "Columns: ['Subscription status', 'Views', 'Watch time (hours)', 'Average view duration']\n",
      "Table Name: subscription_status_chart\n",
      "Columns: ['Date', 'Subscription status', 'Views']\n",
      "Table Name: subscription_source_table\n",
      "Columns: ['Subscription source', 'Subscribers', 'Subscribers gained', 'Subscribers lost']\n",
      "Table Name: subscription_source_chart\n",
      "Columns: ['Date', 'Subscription source', 'Subscribers']\n",
      "Table Name: sharing_service_table\n",
      "Columns: ['Sharing service', 'Shares']\n",
      "Table Name: sharing_service_chart\n",
      "Columns: ['Date', 'Sharing service', 'Shares']\n",
      "Table Name: operating_system_table\n",
      "Columns: ['Operating system', 'Views', 'Watch time (hours)', 'Average view duration']\n",
      "Table Name: operating_system_chart\n",
      "Columns: ['Date', 'Operating system', 'Views']\n",
      "Table Name: cities_chart_data\n",
      "Columns: ['date', 'cities', 'cityname', 'views']\n"
     ]
    }
   ],
   "source": [
    "# Importing necessary modules from SQLAlchemy\n",
    "from sqlalchemy import MetaData, create_engine\n",
    "\n",
    "# Creating an engine instance for connecting to the PostgreSQL database\n",
    "# Replace the placeholders with actual database credentials\n",
    "engine = create_engine(f\"postgresql://{db_user}:{db_password}@{db_host}:{db_port}/{db_name}\")\n",
    "\n",
    "# Creating a MetaData instance\n",
    "metadata = MetaData()\n",
    "\n",
    "# Reflecting the database schema to load table metadata\n",
    "metadata.reflect(bind=engine)\n",
    "\n",
    "# Iterating through each table in the database\n",
    "for table_name, table in metadata.tables.items():\n",
    "    # Printing the name of the current table\n",
    "    print(f\"Table Name: {table_name}\")\n",
    "    \n",
    "    # Printing the names of the columns in the current table\n",
    "    print(f\"Columns: {table.columns.keys()}\")"
   ]
  }
 ],
 "metadata": {
  "kernelspec": {
   "display_name": "myenv",
   "language": "python",
   "name": "python3"
  },
  "language_info": {
   "codemirror_mode": {
    "name": "ipython",
    "version": 3
   },
   "file_extension": ".py",
   "mimetype": "text/x-python",
   "name": "python",
   "nbconvert_exporter": "python",
   "pygments_lexer": "ipython3",
   "version": "3.10.12"
  }
 },
 "nbformat": 4,
 "nbformat_minor": 2
}
